{
 "cells": [
  {
   "cell_type": "markdown",
   "id": "3a1bdf22-092f-444c-8bcd-acde3b0d0423",
   "metadata": {},
   "source": [
    "# Step 1: Import necessary libraries"
   ]
  },
  {
   "cell_type": "code",
   "execution_count": 1,
   "id": "c463a1a2-7cdb-4275-b0c5-d39ade11eff7",
   "metadata": {},
   "outputs": [],
   "source": [
    "import pyodbc\n",
    "import pandas as pd\n",
    "import numpy as np\n",
    "import warnings\n",
    "warnings.filterwarnings('ignore')"
   ]
  },
  {
   "cell_type": "markdown",
   "id": "92364920-eb38-4842-9d50-da72008fb3dd",
   "metadata": {},
   "source": [
    "# Step 2: Load the dataset:"
   ]
  },
  {
   "cell_type": "code",
   "execution_count": 2,
   "id": "df0a7788-6afc-4c62-abe1-9c8d9886b4a2",
   "metadata": {},
   "outputs": [
    {
     "name": "stdout",
     "output_type": "stream",
     "text": [
      "['SQL Server', 'SQL Server Native Client 11.0', 'ODBC Driver 17 for SQL Server', 'Microsoft Access Driver (*.mdb, *.accdb)', 'Microsoft Excel Driver (*.xls, *.xlsx, *.xlsm, *.xlsb)', 'Microsoft Access Text Driver (*.txt, *.csv)', 'Microsoft Access dBASE Driver (*.dbf, *.ndx, *.mdx)']\n"
     ]
    }
   ],
   "source": [
    "print(pyodbc.drivers())"
   ]
  },
  {
   "cell_type": "code",
   "execution_count": null,
   "id": "7a786a03-ab0d-4260-9978-b2cbf2c1dde0",
   "metadata": {},
   "outputs": [],
   "source": [
    "#to load data from azure cloud\n",
    "\"\"\"\"\n",
    "server = \n",
    "database =\n",
    "username = \n",
    "password = \n",
    "driver =  \n",
    "\n",
    "conn=pyodbc.connect( f'DRIVER={driver};SERVER={server};DATABASE={database};UID={username};PWD={password};Encrypt=yes;TrustServerCertificate=no;Connection Timeout=30;')\n",
    "\"\"\"\n",
    "\n",
    "#to load data from SQL\n",
    "server = 'use server name'\n",
    "database = 'database namr'\n",
    "\n",
    "conn = pyodbc.connect(\n",
    "    f'DRIVER={{SQL Server}};'\n",
    "    f'SERVER={server};'\n",
    "    f'DATABASE={database};'\n",
    "    f'Trusted_Connection=yes;'\n",
    ")"
   ]
  },
  {
   "cell_type": "code",
   "execution_count": 4,
   "id": "f9bcb62f",
   "metadata": {},
   "outputs": [],
   "source": [
    "import pandas as pd\n",
    "import numpy as np\n",
    "import seaborn as sns\n",
    "import matplotlib.pyplot as plt\n",
    "from sklearn.preprocessing import LabelEncoder, StandardScaler\n",
    "from sklearn.model_selection import train_test_split,GridSearchCV,cross_val_score,StratifiedKFold\n",
    "from sklearn.svm import SVC\n",
    "from sklearn.metrics import accuracy_score,confusion_matrix,recall_score,precision_score,f1_score\n",
    "from sklearn.impute import KNNImputer,SimpleImputer\n",
    "from sklearn.neighbors import KNeighborsClassifier\n",
    "from sklearn.tree import DecisionTreeClassifier\n",
    "from sklearn.naive_bayes import GaussianNB, BernoulliNB\n",
    "from sklearn.ensemble import RandomForestClassifier\n",
    "from sklearn.ensemble import AdaBoostClassifier\n",
    "from sklearn.ensemble import GradientBoostingClassifier\n",
    "from xgboost import XGBClassifier\n",
    "from sklearn.linear_model import LogisticRegression\n",
    "from sklearn.ensemble import BaggingClassifier,VotingClassifier,StackingClassifier\n",
    "import pickle as pkl\n",
    "import warnings\n",
    "warnings.filterwarnings(\"ignore\")"
   ]
  },
  {
   "cell_type": "code",
   "execution_count": 5,
   "id": "c8f424f0",
   "metadata": {},
   "outputs": [],
   "source": [
    "q=\"\"\"\n",
    "SELECT  * from orders_Sales_return\n",
    "\"\"\""
   ]
  },
  {
   "cell_type": "code",
   "execution_count": 6,
   "id": "30874e27",
   "metadata": {},
   "outputs": [],
   "source": [
    "df=pd.read_sql(q, conn)"
   ]
  },
  {
   "cell_type": "code",
   "execution_count": 7,
   "id": "0b9e82b8",
   "metadata": {},
   "outputs": [
    {
     "data": {
      "text/html": [
       "<div>\n",
       "<style scoped>\n",
       "    .dataframe tbody tr th:only-of-type {\n",
       "        vertical-align: middle;\n",
       "    }\n",
       "\n",
       "    .dataframe tbody tr th {\n",
       "        vertical-align: top;\n",
       "    }\n",
       "\n",
       "    .dataframe thead th {\n",
       "        text-align: right;\n",
       "    }\n",
       "</style>\n",
       "<table border=\"1\" class=\"dataframe\">\n",
       "  <thead>\n",
       "    <tr style=\"text-align: right;\">\n",
       "      <th></th>\n",
       "      <th>order_id</th>\n",
       "      <th>customer_id</th>\n",
       "      <th>customer_name</th>\n",
       "      <th>state_code</th>\n",
       "      <th>shipping_date</th>\n",
       "      <th>shipping_status</th>\n",
       "      <th>carrier</th>\n",
       "      <th>status</th>\n",
       "      <th>product_id</th>\n",
       "      <th>payment_method</th>\n",
       "      <th>category_id</th>\n",
       "      <th>reason</th>\n",
       "      <th>return_status</th>\n",
       "      <th>return_date</th>\n",
       "      <th>total_sales</th>\n",
       "      <th>quantity</th>\n",
       "      <th>is_active</th>\n",
       "      <th>percentage</th>\n",
       "    </tr>\n",
       "  </thead>\n",
       "  <tbody>\n",
       "    <tr>\n",
       "      <th>0</th>\n",
       "      <td>NaN</td>\n",
       "      <td>NaN</td>\n",
       "      <td></td>\n",
       "      <td>None</td>\n",
       "      <td>NaT</td>\n",
       "      <td>None</td>\n",
       "      <td>None</td>\n",
       "      <td>cancelled</td>\n",
       "      <td>NaN</td>\n",
       "      <td>None</td>\n",
       "      <td>NaN</td>\n",
       "      <td>None</td>\n",
       "      <td>None</td>\n",
       "      <td>NaT</td>\n",
       "      <td>NaN</td>\n",
       "      <td>NaN</td>\n",
       "      <td>None</td>\n",
       "      <td>NaN</td>\n",
       "    </tr>\n",
       "    <tr>\n",
       "      <th>1</th>\n",
       "      <td>11.0</td>\n",
       "      <td>1.0</td>\n",
       "      <td>Loretta Weaver</td>\n",
       "      <td>NV</td>\n",
       "      <td>2025-03-17 21:32:52</td>\n",
       "      <td>shipped</td>\n",
       "      <td>UPS</td>\n",
       "      <td>shipped</td>\n",
       "      <td>1.0</td>\n",
       "      <td>credit_card</td>\n",
       "      <td>8.0</td>\n",
       "      <td>None</td>\n",
       "      <td>None</td>\n",
       "      <td>NaT</td>\n",
       "      <td>1815.18</td>\n",
       "      <td>1.0</td>\n",
       "      <td>None</td>\n",
       "      <td>NaN</td>\n",
       "    </tr>\n",
       "    <tr>\n",
       "      <th>2</th>\n",
       "      <td>55.0</td>\n",
       "      <td>5.0</td>\n",
       "      <td>Sheila Cohen</td>\n",
       "      <td>AS</td>\n",
       "      <td>2025-02-21 20:37:26</td>\n",
       "      <td>delivered</td>\n",
       "      <td>FedEx</td>\n",
       "      <td>cancelled</td>\n",
       "      <td>1.0</td>\n",
       "      <td>bank_transfer</td>\n",
       "      <td>8.0</td>\n",
       "      <td>None</td>\n",
       "      <td>None</td>\n",
       "      <td>NaT</td>\n",
       "      <td>1815.18</td>\n",
       "      <td>3.0</td>\n",
       "      <td>None</td>\n",
       "      <td>NaN</td>\n",
       "    </tr>\n",
       "    <tr>\n",
       "      <th>3</th>\n",
       "      <td>55.0</td>\n",
       "      <td>5.0</td>\n",
       "      <td>Sheila Cohen</td>\n",
       "      <td>AS</td>\n",
       "      <td>2025-02-21 20:37:26</td>\n",
       "      <td>delivered</td>\n",
       "      <td>FedEx</td>\n",
       "      <td>delivered</td>\n",
       "      <td>1.0</td>\n",
       "      <td>bank_transfer</td>\n",
       "      <td>8.0</td>\n",
       "      <td>None</td>\n",
       "      <td>None</td>\n",
       "      <td>NaT</td>\n",
       "      <td>5445.54</td>\n",
       "      <td>3.0</td>\n",
       "      <td>None</td>\n",
       "      <td>NaN</td>\n",
       "    </tr>\n",
       "    <tr>\n",
       "      <th>4</th>\n",
       "      <td>55.0</td>\n",
       "      <td>5.0</td>\n",
       "      <td>Sheila Cohen</td>\n",
       "      <td>AS</td>\n",
       "      <td>2025-02-21 20:37:26</td>\n",
       "      <td>delivered</td>\n",
       "      <td>FedEx</td>\n",
       "      <td>pending</td>\n",
       "      <td>1.0</td>\n",
       "      <td>bank_transfer</td>\n",
       "      <td>8.0</td>\n",
       "      <td>None</td>\n",
       "      <td>None</td>\n",
       "      <td>NaT</td>\n",
       "      <td>1815.18</td>\n",
       "      <td>3.0</td>\n",
       "      <td>None</td>\n",
       "      <td>NaN</td>\n",
       "    </tr>\n",
       "  </tbody>\n",
       "</table>\n",
       "</div>"
      ],
      "text/plain": [
       "   order_id  customer_id   customer_name state_code       shipping_date  \\\n",
       "0       NaN          NaN                       None                 NaT   \n",
       "1      11.0          1.0  Loretta Weaver         NV 2025-03-17 21:32:52   \n",
       "2      55.0          5.0    Sheila Cohen         AS 2025-02-21 20:37:26   \n",
       "3      55.0          5.0    Sheila Cohen         AS 2025-02-21 20:37:26   \n",
       "4      55.0          5.0    Sheila Cohen         AS 2025-02-21 20:37:26   \n",
       "\n",
       "  shipping_status carrier     status  product_id payment_method  category_id  \\\n",
       "0            None    None  cancelled         NaN           None          NaN   \n",
       "1         shipped     UPS    shipped         1.0    credit_card          8.0   \n",
       "2       delivered   FedEx  cancelled         1.0  bank_transfer          8.0   \n",
       "3       delivered   FedEx  delivered         1.0  bank_transfer          8.0   \n",
       "4       delivered   FedEx    pending         1.0  bank_transfer          8.0   \n",
       "\n",
       "  reason return_status return_date  total_sales  quantity is_active  \\\n",
       "0   None          None         NaT          NaN       NaN      None   \n",
       "1   None          None         NaT      1815.18       1.0      None   \n",
       "2   None          None         NaT      1815.18       3.0      None   \n",
       "3   None          None         NaT      5445.54       3.0      None   \n",
       "4   None          None         NaT      1815.18       3.0      None   \n",
       "\n",
       "   percentage  \n",
       "0         NaN  \n",
       "1         NaN  \n",
       "2         NaN  \n",
       "3         NaN  \n",
       "4         NaN  "
      ]
     },
     "execution_count": 7,
     "metadata": {},
     "output_type": "execute_result"
    }
   ],
   "source": [
    "df.head()"
   ]
  },
  {
   "cell_type": "code",
   "execution_count": 8,
   "id": "a37912e2",
   "metadata": {},
   "outputs": [],
   "source": [
    "df = df[df['return_status'].notna()]"
   ]
  },
  {
   "cell_type": "code",
   "execution_count": 9,
   "id": "0e7ab9cd",
   "metadata": {},
   "outputs": [
    {
     "data": {
      "text/plain": [
       "(1623, 18)"
      ]
     },
     "execution_count": 9,
     "metadata": {},
     "output_type": "execute_result"
    }
   ],
   "source": [
    "df.shape"
   ]
  },
  {
   "cell_type": "code",
   "execution_count": 10,
   "id": "2120538f",
   "metadata": {},
   "outputs": [
    {
     "data": {
      "text/plain": [
       "85"
      ]
     },
     "execution_count": 10,
     "metadata": {},
     "output_type": "execute_result"
    }
   ],
   "source": [
    "df.duplicated().sum()"
   ]
  },
  {
   "cell_type": "code",
   "execution_count": 11,
   "id": "757c11de",
   "metadata": {},
   "outputs": [],
   "source": [
    "df.drop_duplicates(inplace=True)"
   ]
  },
  {
   "cell_type": "code",
   "execution_count": 12,
   "id": "adb74873",
   "metadata": {
    "scrolled": true
   },
   "outputs": [
    {
     "data": {
      "text/plain": [
       "0"
      ]
     },
     "execution_count": 12,
     "metadata": {},
     "output_type": "execute_result"
    }
   ],
   "source": [
    "df.duplicated().sum()"
   ]
  },
  {
   "cell_type": "code",
   "execution_count": 13,
   "id": "8a78ba70",
   "metadata": {},
   "outputs": [
    {
     "data": {
      "text/html": [
       "<div>\n",
       "<style scoped>\n",
       "    .dataframe tbody tr th:only-of-type {\n",
       "        vertical-align: middle;\n",
       "    }\n",
       "\n",
       "    .dataframe tbody tr th {\n",
       "        vertical-align: top;\n",
       "    }\n",
       "\n",
       "    .dataframe thead th {\n",
       "        text-align: right;\n",
       "    }\n",
       "</style>\n",
       "<table border=\"1\" class=\"dataframe\">\n",
       "  <thead>\n",
       "    <tr style=\"text-align: right;\">\n",
       "      <th></th>\n",
       "      <th>order_id</th>\n",
       "      <th>customer_id</th>\n",
       "      <th>customer_name</th>\n",
       "      <th>state_code</th>\n",
       "      <th>shipping_date</th>\n",
       "      <th>shipping_status</th>\n",
       "      <th>carrier</th>\n",
       "      <th>status</th>\n",
       "      <th>product_id</th>\n",
       "      <th>payment_method</th>\n",
       "      <th>category_id</th>\n",
       "      <th>reason</th>\n",
       "      <th>return_status</th>\n",
       "      <th>return_date</th>\n",
       "      <th>total_sales</th>\n",
       "      <th>quantity</th>\n",
       "      <th>is_active</th>\n",
       "      <th>percentage</th>\n",
       "    </tr>\n",
       "  </thead>\n",
       "  <tbody>\n",
       "    <tr>\n",
       "      <th>714</th>\n",
       "      <td>47.0</td>\n",
       "      <td>38.0</td>\n",
       "      <td>Edwin Castro</td>\n",
       "      <td>TN</td>\n",
       "      <td>2025-02-14 16:37:24</td>\n",
       "      <td>delivered</td>\n",
       "      <td>DHL</td>\n",
       "      <td>delivered</td>\n",
       "      <td>45.0</td>\n",
       "      <td>paypal</td>\n",
       "      <td>6.0</td>\n",
       "      <td>Wrong size</td>\n",
       "      <td>approved</td>\n",
       "      <td>2025-03-05 16:37:24</td>\n",
       "      <td>1405.56</td>\n",
       "      <td>4.0</td>\n",
       "      <td>None</td>\n",
       "      <td>NaN</td>\n",
       "    </tr>\n",
       "    <tr>\n",
       "      <th>715</th>\n",
       "      <td>47.0</td>\n",
       "      <td>38.0</td>\n",
       "      <td>Edwin Castro</td>\n",
       "      <td>TN</td>\n",
       "      <td>2025-02-14 16:37:24</td>\n",
       "      <td>delivered</td>\n",
       "      <td>DHL</td>\n",
       "      <td>processing</td>\n",
       "      <td>45.0</td>\n",
       "      <td>paypal</td>\n",
       "      <td>6.0</td>\n",
       "      <td>Wrong size</td>\n",
       "      <td>approved</td>\n",
       "      <td>2025-03-05 16:37:24</td>\n",
       "      <td>1405.56</td>\n",
       "      <td>4.0</td>\n",
       "      <td>None</td>\n",
       "      <td>NaN</td>\n",
       "    </tr>\n",
       "    <tr>\n",
       "      <th>907</th>\n",
       "      <td>47.0</td>\n",
       "      <td>38.0</td>\n",
       "      <td>Edwin Castro</td>\n",
       "      <td>TN</td>\n",
       "      <td>2025-02-14 16:37:24</td>\n",
       "      <td>delivered</td>\n",
       "      <td>DHL</td>\n",
       "      <td>delivered</td>\n",
       "      <td>57.0</td>\n",
       "      <td>paypal</td>\n",
       "      <td>8.0</td>\n",
       "      <td>Wrong size</td>\n",
       "      <td>approved</td>\n",
       "      <td>2025-03-05 16:37:24</td>\n",
       "      <td>597.38</td>\n",
       "      <td>1.0</td>\n",
       "      <td>None</td>\n",
       "      <td>NaN</td>\n",
       "    </tr>\n",
       "    <tr>\n",
       "      <th>908</th>\n",
       "      <td>47.0</td>\n",
       "      <td>38.0</td>\n",
       "      <td>Edwin Castro</td>\n",
       "      <td>TN</td>\n",
       "      <td>2025-02-14 16:37:24</td>\n",
       "      <td>delivered</td>\n",
       "      <td>DHL</td>\n",
       "      <td>processing</td>\n",
       "      <td>57.0</td>\n",
       "      <td>paypal</td>\n",
       "      <td>8.0</td>\n",
       "      <td>Wrong size</td>\n",
       "      <td>approved</td>\n",
       "      <td>2025-03-05 16:37:24</td>\n",
       "      <td>597.38</td>\n",
       "      <td>1.0</td>\n",
       "      <td>None</td>\n",
       "      <td>NaN</td>\n",
       "    </tr>\n",
       "    <tr>\n",
       "      <th>939</th>\n",
       "      <td>47.0</td>\n",
       "      <td>38.0</td>\n",
       "      <td>Edwin Castro</td>\n",
       "      <td>TN</td>\n",
       "      <td>2025-02-14 16:37:24</td>\n",
       "      <td>delivered</td>\n",
       "      <td>DHL</td>\n",
       "      <td>delivered</td>\n",
       "      <td>58.0</td>\n",
       "      <td>paypal</td>\n",
       "      <td>4.0</td>\n",
       "      <td>Wrong size</td>\n",
       "      <td>approved</td>\n",
       "      <td>2025-03-05 16:37:24</td>\n",
       "      <td>2611.35</td>\n",
       "      <td>5.0</td>\n",
       "      <td>None</td>\n",
       "      <td>NaN</td>\n",
       "    </tr>\n",
       "  </tbody>\n",
       "</table>\n",
       "</div>"
      ],
      "text/plain": [
       "     order_id  customer_id customer_name state_code       shipping_date  \\\n",
       "714      47.0         38.0  Edwin Castro         TN 2025-02-14 16:37:24   \n",
       "715      47.0         38.0  Edwin Castro         TN 2025-02-14 16:37:24   \n",
       "907      47.0         38.0  Edwin Castro         TN 2025-02-14 16:37:24   \n",
       "908      47.0         38.0  Edwin Castro         TN 2025-02-14 16:37:24   \n",
       "939      47.0         38.0  Edwin Castro         TN 2025-02-14 16:37:24   \n",
       "\n",
       "    shipping_status carrier      status  product_id payment_method  \\\n",
       "714       delivered     DHL   delivered        45.0         paypal   \n",
       "715       delivered     DHL  processing        45.0         paypal   \n",
       "907       delivered     DHL   delivered        57.0         paypal   \n",
       "908       delivered     DHL  processing        57.0         paypal   \n",
       "939       delivered     DHL   delivered        58.0         paypal   \n",
       "\n",
       "     category_id      reason return_status         return_date  total_sales  \\\n",
       "714          6.0  Wrong size      approved 2025-03-05 16:37:24      1405.56   \n",
       "715          6.0  Wrong size      approved 2025-03-05 16:37:24      1405.56   \n",
       "907          8.0  Wrong size      approved 2025-03-05 16:37:24       597.38   \n",
       "908          8.0  Wrong size      approved 2025-03-05 16:37:24       597.38   \n",
       "939          4.0  Wrong size      approved 2025-03-05 16:37:24      2611.35   \n",
       "\n",
       "     quantity is_active  percentage  \n",
       "714       4.0      None         NaN  \n",
       "715       4.0      None         NaN  \n",
       "907       1.0      None         NaN  \n",
       "908       1.0      None         NaN  \n",
       "939       5.0      None         NaN  "
      ]
     },
     "execution_count": 13,
     "metadata": {},
     "output_type": "execute_result"
    }
   ],
   "source": [
    "df.head()"
   ]
  },
  {
   "cell_type": "code",
   "execution_count": 14,
   "id": "bfb72eff",
   "metadata": {},
   "outputs": [],
   "source": [
    "df.drop(['order_id','customer_id','customer_name','product_id','category_id','reason'],axis=1,inplace=True)"
   ]
  },
  {
   "cell_type": "code",
   "execution_count": 15,
   "id": "bbb717d2",
   "metadata": {},
   "outputs": [
    {
     "data": {
      "text/html": [
       "<div>\n",
       "<style scoped>\n",
       "    .dataframe tbody tr th:only-of-type {\n",
       "        vertical-align: middle;\n",
       "    }\n",
       "\n",
       "    .dataframe tbody tr th {\n",
       "        vertical-align: top;\n",
       "    }\n",
       "\n",
       "    .dataframe thead th {\n",
       "        text-align: right;\n",
       "    }\n",
       "</style>\n",
       "<table border=\"1\" class=\"dataframe\">\n",
       "  <thead>\n",
       "    <tr style=\"text-align: right;\">\n",
       "      <th></th>\n",
       "      <th>state_code</th>\n",
       "      <th>shipping_date</th>\n",
       "      <th>shipping_status</th>\n",
       "      <th>carrier</th>\n",
       "      <th>status</th>\n",
       "      <th>payment_method</th>\n",
       "      <th>return_status</th>\n",
       "      <th>return_date</th>\n",
       "      <th>total_sales</th>\n",
       "      <th>quantity</th>\n",
       "      <th>is_active</th>\n",
       "      <th>percentage</th>\n",
       "    </tr>\n",
       "  </thead>\n",
       "  <tbody>\n",
       "    <tr>\n",
       "      <th>43580</th>\n",
       "      <td>AS</td>\n",
       "      <td>2025-02-01 01:57:18</td>\n",
       "      <td>delivered</td>\n",
       "      <td>FedEx</td>\n",
       "      <td>delivered</td>\n",
       "      <td>bank_transfer</td>\n",
       "      <td>approved</td>\n",
       "      <td>2025-02-02 01:57:18</td>\n",
       "      <td>6023.20</td>\n",
       "      <td>4.0</td>\n",
       "      <td>None</td>\n",
       "      <td>NaN</td>\n",
       "    </tr>\n",
       "    <tr>\n",
       "      <th>73186</th>\n",
       "      <td>ID</td>\n",
       "      <td>2025-01-29 07:25:12</td>\n",
       "      <td>delivered</td>\n",
       "      <td>UPS</td>\n",
       "      <td>shipped</td>\n",
       "      <td>credit_card</td>\n",
       "      <td>completed</td>\n",
       "      <td>2025-01-29 07:25:12</td>\n",
       "      <td>1832.40</td>\n",
       "      <td>1.0</td>\n",
       "      <td>None</td>\n",
       "      <td>NaN</td>\n",
       "    </tr>\n",
       "    <tr>\n",
       "      <th>88447</th>\n",
       "      <td>OK</td>\n",
       "      <td>2025-03-05 07:06:03</td>\n",
       "      <td>delivered</td>\n",
       "      <td>DHL</td>\n",
       "      <td>cancelled</td>\n",
       "      <td>bank_transfer</td>\n",
       "      <td>completed</td>\n",
       "      <td>2025-03-07 07:06:03</td>\n",
       "      <td>2833.53</td>\n",
       "      <td>3.0</td>\n",
       "      <td>True</td>\n",
       "      <td>0.4512</td>\n",
       "    </tr>\n",
       "    <tr>\n",
       "      <th>2608</th>\n",
       "      <td>Unit</td>\n",
       "      <td>2025-03-17 12:22:28</td>\n",
       "      <td>delivered</td>\n",
       "      <td>DHL</td>\n",
       "      <td>processing</td>\n",
       "      <td>credit_card</td>\n",
       "      <td>approved</td>\n",
       "      <td>2025-04-07 12:22:28</td>\n",
       "      <td>12414.96</td>\n",
       "      <td>4.0</td>\n",
       "      <td>True</td>\n",
       "      <td>0.3078</td>\n",
       "    </tr>\n",
       "    <tr>\n",
       "      <th>9837</th>\n",
       "      <td>USNV</td>\n",
       "      <td>2025-03-25 13:57:05</td>\n",
       "      <td>delivered</td>\n",
       "      <td>DHL</td>\n",
       "      <td>cancelled</td>\n",
       "      <td>credit_card</td>\n",
       "      <td>rejected</td>\n",
       "      <td>2025-04-12 13:57:05</td>\n",
       "      <td>12051.72</td>\n",
       "      <td>4.0</td>\n",
       "      <td>True</td>\n",
       "      <td>0.3078</td>\n",
       "    </tr>\n",
       "  </tbody>\n",
       "</table>\n",
       "</div>"
      ],
      "text/plain": [
       "      state_code       shipping_date shipping_status carrier      status  \\\n",
       "43580         AS 2025-02-01 01:57:18       delivered   FedEx   delivered   \n",
       "73186         ID 2025-01-29 07:25:12       delivered     UPS     shipped   \n",
       "88447         OK 2025-03-05 07:06:03       delivered     DHL   cancelled   \n",
       "2608        Unit 2025-03-17 12:22:28       delivered     DHL  processing   \n",
       "9837        USNV 2025-03-25 13:57:05       delivered     DHL   cancelled   \n",
       "\n",
       "      payment_method return_status         return_date  total_sales  quantity  \\\n",
       "43580  bank_transfer      approved 2025-02-02 01:57:18      6023.20       4.0   \n",
       "73186    credit_card     completed 2025-01-29 07:25:12      1832.40       1.0   \n",
       "88447  bank_transfer     completed 2025-03-07 07:06:03      2833.53       3.0   \n",
       "2608     credit_card      approved 2025-04-07 12:22:28     12414.96       4.0   \n",
       "9837     credit_card      rejected 2025-04-12 13:57:05     12051.72       4.0   \n",
       "\n",
       "      is_active  percentage  \n",
       "43580      None         NaN  \n",
       "73186      None         NaN  \n",
       "88447      True      0.4512  \n",
       "2608       True      0.3078  \n",
       "9837       True      0.3078  "
      ]
     },
     "execution_count": 15,
     "metadata": {},
     "output_type": "execute_result"
    }
   ],
   "source": [
    "df.sample(5)"
   ]
  },
  {
   "cell_type": "code",
   "execution_count": 16,
   "id": "bf86cf6f",
   "metadata": {},
   "outputs": [
    {
     "data": {
      "text/plain": [
       "state_code            0\n",
       "shipping_date         0\n",
       "shipping_status       0\n",
       "carrier               0\n",
       "status                0\n",
       "payment_method        0\n",
       "return_status         0\n",
       "return_date           0\n",
       "total_sales           0\n",
       "quantity              0\n",
       "is_active          1243\n",
       "percentage         1243\n",
       "dtype: int64"
      ]
     },
     "execution_count": 16,
     "metadata": {},
     "output_type": "execute_result"
    }
   ],
   "source": [
    "df.isna().sum()"
   ]
  },
  {
   "cell_type": "code",
   "execution_count": 17,
   "id": "e34d0827",
   "metadata": {
    "scrolled": true
   },
   "outputs": [
    {
     "data": {
      "text/plain": [
       "percentage\n",
       "0.3078    135\n",
       "0.3660     90\n",
       "0.4512     45\n",
       "0.1879     10\n",
       "0.4612      5\n",
       "0.2737      5\n",
       "0.2078      5\n",
       "Name: count, dtype: int64"
      ]
     },
     "execution_count": 17,
     "metadata": {},
     "output_type": "execute_result"
    }
   ],
   "source": [
    "df.percentage.value_counts()"
   ]
  },
  {
   "cell_type": "code",
   "execution_count": 18,
   "id": "0f20fb0b",
   "metadata": {},
   "outputs": [
    {
     "data": {
      "text/plain": [
       "is_active\n",
       "True    295\n",
       "Name: count, dtype: int64"
      ]
     },
     "execution_count": 18,
     "metadata": {},
     "output_type": "execute_result"
    }
   ],
   "source": [
    "df.is_active.value_counts()"
   ]
  },
  {
   "cell_type": "code",
   "execution_count": 19,
   "id": "ad5249b0",
   "metadata": {
    "scrolled": true
   },
   "outputs": [
    {
     "data": {
      "text/plain": [
       "percentage\n",
       "0.0000    1243\n",
       "0.3078     135\n",
       "0.3660      90\n",
       "0.4512      45\n",
       "0.1879      10\n",
       "0.4612       5\n",
       "0.2737       5\n",
       "0.2078       5\n",
       "Name: count, dtype: int64"
      ]
     },
     "execution_count": 19,
     "metadata": {},
     "output_type": "execute_result"
    }
   ],
   "source": [
    "df['percentage']=df['percentage'].fillna(value=0)\n",
    "df.percentage.value_counts()"
   ]
  },
  {
   "cell_type": "code",
   "execution_count": 20,
   "id": "b2faeaab",
   "metadata": {},
   "outputs": [
    {
     "data": {
      "text/plain": [
       "is_active\n",
       "False    1243\n",
       "True      295\n",
       "Name: count, dtype: int64"
      ]
     },
     "execution_count": 20,
     "metadata": {},
     "output_type": "execute_result"
    }
   ],
   "source": [
    "df['is_active']=df['is_active'].fillna(value=False)\n",
    "df.is_active.value_counts()"
   ]
  },
  {
   "cell_type": "code",
   "execution_count": 21,
   "id": "4236aa4f",
   "metadata": {},
   "outputs": [
    {
     "data": {
      "text/plain": [
       "(1538, 12)"
      ]
     },
     "execution_count": 21,
     "metadata": {},
     "output_type": "execute_result"
    }
   ],
   "source": [
    "df.shape"
   ]
  },
  {
   "cell_type": "code",
   "execution_count": 22,
   "id": "81df6547",
   "metadata": {
    "scrolled": true
   },
   "outputs": [
    {
     "data": {
      "text/html": [
       "<div>\n",
       "<style scoped>\n",
       "    .dataframe tbody tr th:only-of-type {\n",
       "        vertical-align: middle;\n",
       "    }\n",
       "\n",
       "    .dataframe tbody tr th {\n",
       "        vertical-align: top;\n",
       "    }\n",
       "\n",
       "    .dataframe thead th {\n",
       "        text-align: right;\n",
       "    }\n",
       "</style>\n",
       "<table border=\"1\" class=\"dataframe\">\n",
       "  <thead>\n",
       "    <tr style=\"text-align: right;\">\n",
       "      <th></th>\n",
       "      <th>state_code</th>\n",
       "      <th>shipping_date</th>\n",
       "      <th>shipping_status</th>\n",
       "      <th>carrier</th>\n",
       "      <th>status</th>\n",
       "      <th>payment_method</th>\n",
       "      <th>return_status</th>\n",
       "      <th>return_date</th>\n",
       "      <th>total_sales</th>\n",
       "      <th>quantity</th>\n",
       "      <th>is_active</th>\n",
       "      <th>percentage</th>\n",
       "    </tr>\n",
       "  </thead>\n",
       "  <tbody>\n",
       "    <tr>\n",
       "      <th>714</th>\n",
       "      <td>TN</td>\n",
       "      <td>2025-02-14 16:37:24</td>\n",
       "      <td>delivered</td>\n",
       "      <td>DHL</td>\n",
       "      <td>delivered</td>\n",
       "      <td>paypal</td>\n",
       "      <td>approved</td>\n",
       "      <td>2025-03-05 16:37:24</td>\n",
       "      <td>1405.56</td>\n",
       "      <td>4.0</td>\n",
       "      <td>False</td>\n",
       "      <td>0.0</td>\n",
       "    </tr>\n",
       "    <tr>\n",
       "      <th>715</th>\n",
       "      <td>TN</td>\n",
       "      <td>2025-02-14 16:37:24</td>\n",
       "      <td>delivered</td>\n",
       "      <td>DHL</td>\n",
       "      <td>processing</td>\n",
       "      <td>paypal</td>\n",
       "      <td>approved</td>\n",
       "      <td>2025-03-05 16:37:24</td>\n",
       "      <td>1405.56</td>\n",
       "      <td>4.0</td>\n",
       "      <td>False</td>\n",
       "      <td>0.0</td>\n",
       "    </tr>\n",
       "    <tr>\n",
       "      <th>907</th>\n",
       "      <td>TN</td>\n",
       "      <td>2025-02-14 16:37:24</td>\n",
       "      <td>delivered</td>\n",
       "      <td>DHL</td>\n",
       "      <td>delivered</td>\n",
       "      <td>paypal</td>\n",
       "      <td>approved</td>\n",
       "      <td>2025-03-05 16:37:24</td>\n",
       "      <td>597.38</td>\n",
       "      <td>1.0</td>\n",
       "      <td>False</td>\n",
       "      <td>0.0</td>\n",
       "    </tr>\n",
       "    <tr>\n",
       "      <th>908</th>\n",
       "      <td>TN</td>\n",
       "      <td>2025-02-14 16:37:24</td>\n",
       "      <td>delivered</td>\n",
       "      <td>DHL</td>\n",
       "      <td>processing</td>\n",
       "      <td>paypal</td>\n",
       "      <td>approved</td>\n",
       "      <td>2025-03-05 16:37:24</td>\n",
       "      <td>597.38</td>\n",
       "      <td>1.0</td>\n",
       "      <td>False</td>\n",
       "      <td>0.0</td>\n",
       "    </tr>\n",
       "    <tr>\n",
       "      <th>939</th>\n",
       "      <td>TN</td>\n",
       "      <td>2025-02-14 16:37:24</td>\n",
       "      <td>delivered</td>\n",
       "      <td>DHL</td>\n",
       "      <td>delivered</td>\n",
       "      <td>paypal</td>\n",
       "      <td>approved</td>\n",
       "      <td>2025-03-05 16:37:24</td>\n",
       "      <td>2611.35</td>\n",
       "      <td>5.0</td>\n",
       "      <td>False</td>\n",
       "      <td>0.0</td>\n",
       "    </tr>\n",
       "  </tbody>\n",
       "</table>\n",
       "</div>"
      ],
      "text/plain": [
       "    state_code       shipping_date shipping_status carrier      status  \\\n",
       "714         TN 2025-02-14 16:37:24       delivered     DHL   delivered   \n",
       "715         TN 2025-02-14 16:37:24       delivered     DHL  processing   \n",
       "907         TN 2025-02-14 16:37:24       delivered     DHL   delivered   \n",
       "908         TN 2025-02-14 16:37:24       delivered     DHL  processing   \n",
       "939         TN 2025-02-14 16:37:24       delivered     DHL   delivered   \n",
       "\n",
       "    payment_method return_status         return_date  total_sales  quantity  \\\n",
       "714         paypal      approved 2025-03-05 16:37:24      1405.56       4.0   \n",
       "715         paypal      approved 2025-03-05 16:37:24      1405.56       4.0   \n",
       "907         paypal      approved 2025-03-05 16:37:24       597.38       1.0   \n",
       "908         paypal      approved 2025-03-05 16:37:24       597.38       1.0   \n",
       "939         paypal      approved 2025-03-05 16:37:24      2611.35       5.0   \n",
       "\n",
       "     is_active  percentage  \n",
       "714      False         0.0  \n",
       "715      False         0.0  \n",
       "907      False         0.0  \n",
       "908      False         0.0  \n",
       "939      False         0.0  "
      ]
     },
     "execution_count": 22,
     "metadata": {},
     "output_type": "execute_result"
    }
   ],
   "source": [
    "df.head()"
   ]
  },
  {
   "cell_type": "code",
   "execution_count": 23,
   "id": "6c91de21",
   "metadata": {},
   "outputs": [],
   "source": [
    "df['shipping_date'] = pd.to_datetime(df['shipping_date'])\n",
    "df['return_date'] = pd.to_datetime(df['return_date'])"
   ]
  },
  {
   "cell_type": "code",
   "execution_count": 24,
   "id": "cda5da39",
   "metadata": {},
   "outputs": [],
   "source": [
    "df['return_days'] = (df['return_date'] - df['shipping_date']).dt.days\n",
    "\n",
    "df['shipping_month'] = df['shipping_date'].dt.month"
   ]
  },
  {
   "cell_type": "code",
   "execution_count": 25,
   "id": "2d19cc0c",
   "metadata": {},
   "outputs": [
    {
     "data": {
      "text/html": [
       "<div>\n",
       "<style scoped>\n",
       "    .dataframe tbody tr th:only-of-type {\n",
       "        vertical-align: middle;\n",
       "    }\n",
       "\n",
       "    .dataframe tbody tr th {\n",
       "        vertical-align: top;\n",
       "    }\n",
       "\n",
       "    .dataframe thead th {\n",
       "        text-align: right;\n",
       "    }\n",
       "</style>\n",
       "<table border=\"1\" class=\"dataframe\">\n",
       "  <thead>\n",
       "    <tr style=\"text-align: right;\">\n",
       "      <th></th>\n",
       "      <th>state_code</th>\n",
       "      <th>shipping_date</th>\n",
       "      <th>shipping_status</th>\n",
       "      <th>carrier</th>\n",
       "      <th>status</th>\n",
       "      <th>payment_method</th>\n",
       "      <th>return_status</th>\n",
       "      <th>return_date</th>\n",
       "      <th>total_sales</th>\n",
       "      <th>quantity</th>\n",
       "      <th>is_active</th>\n",
       "      <th>percentage</th>\n",
       "      <th>return_days</th>\n",
       "      <th>shipping_month</th>\n",
       "    </tr>\n",
       "  </thead>\n",
       "  <tbody>\n",
       "    <tr>\n",
       "      <th>714</th>\n",
       "      <td>TN</td>\n",
       "      <td>2025-02-14 16:37:24</td>\n",
       "      <td>delivered</td>\n",
       "      <td>DHL</td>\n",
       "      <td>delivered</td>\n",
       "      <td>paypal</td>\n",
       "      <td>approved</td>\n",
       "      <td>2025-03-05 16:37:24</td>\n",
       "      <td>1405.56</td>\n",
       "      <td>4.0</td>\n",
       "      <td>False</td>\n",
       "      <td>0.0</td>\n",
       "      <td>19</td>\n",
       "      <td>2</td>\n",
       "    </tr>\n",
       "    <tr>\n",
       "      <th>715</th>\n",
       "      <td>TN</td>\n",
       "      <td>2025-02-14 16:37:24</td>\n",
       "      <td>delivered</td>\n",
       "      <td>DHL</td>\n",
       "      <td>processing</td>\n",
       "      <td>paypal</td>\n",
       "      <td>approved</td>\n",
       "      <td>2025-03-05 16:37:24</td>\n",
       "      <td>1405.56</td>\n",
       "      <td>4.0</td>\n",
       "      <td>False</td>\n",
       "      <td>0.0</td>\n",
       "      <td>19</td>\n",
       "      <td>2</td>\n",
       "    </tr>\n",
       "    <tr>\n",
       "      <th>907</th>\n",
       "      <td>TN</td>\n",
       "      <td>2025-02-14 16:37:24</td>\n",
       "      <td>delivered</td>\n",
       "      <td>DHL</td>\n",
       "      <td>delivered</td>\n",
       "      <td>paypal</td>\n",
       "      <td>approved</td>\n",
       "      <td>2025-03-05 16:37:24</td>\n",
       "      <td>597.38</td>\n",
       "      <td>1.0</td>\n",
       "      <td>False</td>\n",
       "      <td>0.0</td>\n",
       "      <td>19</td>\n",
       "      <td>2</td>\n",
       "    </tr>\n",
       "    <tr>\n",
       "      <th>908</th>\n",
       "      <td>TN</td>\n",
       "      <td>2025-02-14 16:37:24</td>\n",
       "      <td>delivered</td>\n",
       "      <td>DHL</td>\n",
       "      <td>processing</td>\n",
       "      <td>paypal</td>\n",
       "      <td>approved</td>\n",
       "      <td>2025-03-05 16:37:24</td>\n",
       "      <td>597.38</td>\n",
       "      <td>1.0</td>\n",
       "      <td>False</td>\n",
       "      <td>0.0</td>\n",
       "      <td>19</td>\n",
       "      <td>2</td>\n",
       "    </tr>\n",
       "    <tr>\n",
       "      <th>939</th>\n",
       "      <td>TN</td>\n",
       "      <td>2025-02-14 16:37:24</td>\n",
       "      <td>delivered</td>\n",
       "      <td>DHL</td>\n",
       "      <td>delivered</td>\n",
       "      <td>paypal</td>\n",
       "      <td>approved</td>\n",
       "      <td>2025-03-05 16:37:24</td>\n",
       "      <td>2611.35</td>\n",
       "      <td>5.0</td>\n",
       "      <td>False</td>\n",
       "      <td>0.0</td>\n",
       "      <td>19</td>\n",
       "      <td>2</td>\n",
       "    </tr>\n",
       "  </tbody>\n",
       "</table>\n",
       "</div>"
      ],
      "text/plain": [
       "    state_code       shipping_date shipping_status carrier      status  \\\n",
       "714         TN 2025-02-14 16:37:24       delivered     DHL   delivered   \n",
       "715         TN 2025-02-14 16:37:24       delivered     DHL  processing   \n",
       "907         TN 2025-02-14 16:37:24       delivered     DHL   delivered   \n",
       "908         TN 2025-02-14 16:37:24       delivered     DHL  processing   \n",
       "939         TN 2025-02-14 16:37:24       delivered     DHL   delivered   \n",
       "\n",
       "    payment_method return_status         return_date  total_sales  quantity  \\\n",
       "714         paypal      approved 2025-03-05 16:37:24      1405.56       4.0   \n",
       "715         paypal      approved 2025-03-05 16:37:24      1405.56       4.0   \n",
       "907         paypal      approved 2025-03-05 16:37:24       597.38       1.0   \n",
       "908         paypal      approved 2025-03-05 16:37:24       597.38       1.0   \n",
       "939         paypal      approved 2025-03-05 16:37:24      2611.35       5.0   \n",
       "\n",
       "     is_active  percentage  return_days  shipping_month  \n",
       "714      False         0.0           19               2  \n",
       "715      False         0.0           19               2  \n",
       "907      False         0.0           19               2  \n",
       "908      False         0.0           19               2  \n",
       "939      False         0.0           19               2  "
      ]
     },
     "execution_count": 25,
     "metadata": {},
     "output_type": "execute_result"
    }
   ],
   "source": [
    "df.head()"
   ]
  },
  {
   "cell_type": "code",
   "execution_count": 26,
   "id": "b1d6700c",
   "metadata": {},
   "outputs": [
    {
     "data": {
      "text/html": [
       "<div>\n",
       "<style scoped>\n",
       "    .dataframe tbody tr th:only-of-type {\n",
       "        vertical-align: middle;\n",
       "    }\n",
       "\n",
       "    .dataframe tbody tr th {\n",
       "        vertical-align: top;\n",
       "    }\n",
       "\n",
       "    .dataframe thead th {\n",
       "        text-align: right;\n",
       "    }\n",
       "</style>\n",
       "<table border=\"1\" class=\"dataframe\">\n",
       "  <thead>\n",
       "    <tr style=\"text-align: right;\">\n",
       "      <th></th>\n",
       "      <th>state_code</th>\n",
       "      <th>shipping_status</th>\n",
       "      <th>carrier</th>\n",
       "      <th>status</th>\n",
       "      <th>payment_method</th>\n",
       "      <th>return_status</th>\n",
       "      <th>total_sales</th>\n",
       "      <th>quantity</th>\n",
       "      <th>is_active</th>\n",
       "      <th>percentage</th>\n",
       "      <th>return_days</th>\n",
       "      <th>shipping_month</th>\n",
       "    </tr>\n",
       "  </thead>\n",
       "  <tbody>\n",
       "    <tr>\n",
       "      <th>714</th>\n",
       "      <td>TN</td>\n",
       "      <td>delivered</td>\n",
       "      <td>DHL</td>\n",
       "      <td>delivered</td>\n",
       "      <td>paypal</td>\n",
       "      <td>approved</td>\n",
       "      <td>1405.56</td>\n",
       "      <td>4.0</td>\n",
       "      <td>False</td>\n",
       "      <td>0.0</td>\n",
       "      <td>19</td>\n",
       "      <td>2</td>\n",
       "    </tr>\n",
       "    <tr>\n",
       "      <th>715</th>\n",
       "      <td>TN</td>\n",
       "      <td>delivered</td>\n",
       "      <td>DHL</td>\n",
       "      <td>processing</td>\n",
       "      <td>paypal</td>\n",
       "      <td>approved</td>\n",
       "      <td>1405.56</td>\n",
       "      <td>4.0</td>\n",
       "      <td>False</td>\n",
       "      <td>0.0</td>\n",
       "      <td>19</td>\n",
       "      <td>2</td>\n",
       "    </tr>\n",
       "    <tr>\n",
       "      <th>907</th>\n",
       "      <td>TN</td>\n",
       "      <td>delivered</td>\n",
       "      <td>DHL</td>\n",
       "      <td>delivered</td>\n",
       "      <td>paypal</td>\n",
       "      <td>approved</td>\n",
       "      <td>597.38</td>\n",
       "      <td>1.0</td>\n",
       "      <td>False</td>\n",
       "      <td>0.0</td>\n",
       "      <td>19</td>\n",
       "      <td>2</td>\n",
       "    </tr>\n",
       "    <tr>\n",
       "      <th>908</th>\n",
       "      <td>TN</td>\n",
       "      <td>delivered</td>\n",
       "      <td>DHL</td>\n",
       "      <td>processing</td>\n",
       "      <td>paypal</td>\n",
       "      <td>approved</td>\n",
       "      <td>597.38</td>\n",
       "      <td>1.0</td>\n",
       "      <td>False</td>\n",
       "      <td>0.0</td>\n",
       "      <td>19</td>\n",
       "      <td>2</td>\n",
       "    </tr>\n",
       "    <tr>\n",
       "      <th>939</th>\n",
       "      <td>TN</td>\n",
       "      <td>delivered</td>\n",
       "      <td>DHL</td>\n",
       "      <td>delivered</td>\n",
       "      <td>paypal</td>\n",
       "      <td>approved</td>\n",
       "      <td>2611.35</td>\n",
       "      <td>5.0</td>\n",
       "      <td>False</td>\n",
       "      <td>0.0</td>\n",
       "      <td>19</td>\n",
       "      <td>2</td>\n",
       "    </tr>\n",
       "  </tbody>\n",
       "</table>\n",
       "</div>"
      ],
      "text/plain": [
       "    state_code shipping_status carrier      status payment_method  \\\n",
       "714         TN       delivered     DHL   delivered         paypal   \n",
       "715         TN       delivered     DHL  processing         paypal   \n",
       "907         TN       delivered     DHL   delivered         paypal   \n",
       "908         TN       delivered     DHL  processing         paypal   \n",
       "939         TN       delivered     DHL   delivered         paypal   \n",
       "\n",
       "    return_status  total_sales  quantity  is_active  percentage  return_days  \\\n",
       "714      approved      1405.56       4.0      False         0.0           19   \n",
       "715      approved      1405.56       4.0      False         0.0           19   \n",
       "907      approved       597.38       1.0      False         0.0           19   \n",
       "908      approved       597.38       1.0      False         0.0           19   \n",
       "939      approved      2611.35       5.0      False         0.0           19   \n",
       "\n",
       "     shipping_month  \n",
       "714               2  \n",
       "715               2  \n",
       "907               2  \n",
       "908               2  \n",
       "939               2  "
      ]
     },
     "execution_count": 26,
     "metadata": {},
     "output_type": "execute_result"
    }
   ],
   "source": [
    "df.drop(['shipping_date', 'return_date'], axis=1, inplace=True)\n",
    "df.head()"
   ]
  },
  {
   "cell_type": "code",
   "execution_count": 27,
   "id": "5a4c32c9",
   "metadata": {},
   "outputs": [
    {
     "data": {
      "text/html": [
       "<div>\n",
       "<style scoped>\n",
       "    .dataframe tbody tr th:only-of-type {\n",
       "        vertical-align: middle;\n",
       "    }\n",
       "\n",
       "    .dataframe tbody tr th {\n",
       "        vertical-align: top;\n",
       "    }\n",
       "\n",
       "    .dataframe thead th {\n",
       "        text-align: right;\n",
       "    }\n",
       "</style>\n",
       "<table border=\"1\" class=\"dataframe\">\n",
       "  <thead>\n",
       "    <tr style=\"text-align: right;\">\n",
       "      <th></th>\n",
       "      <th>state_code</th>\n",
       "      <th>shipping_status</th>\n",
       "      <th>carrier</th>\n",
       "      <th>status</th>\n",
       "      <th>payment_method</th>\n",
       "      <th>return_status</th>\n",
       "      <th>total_sales</th>\n",
       "      <th>quantity</th>\n",
       "      <th>is_active</th>\n",
       "      <th>percentage</th>\n",
       "      <th>return_days</th>\n",
       "      <th>shipping_month</th>\n",
       "    </tr>\n",
       "  </thead>\n",
       "  <tbody>\n",
       "    <tr>\n",
       "      <th>714</th>\n",
       "      <td>35</td>\n",
       "      <td>0</td>\n",
       "      <td>0</td>\n",
       "      <td>1</td>\n",
       "      <td>2</td>\n",
       "      <td>0</td>\n",
       "      <td>1405.56</td>\n",
       "      <td>4.0</td>\n",
       "      <td>False</td>\n",
       "      <td>0.0</td>\n",
       "      <td>19</td>\n",
       "      <td>2</td>\n",
       "    </tr>\n",
       "    <tr>\n",
       "      <th>715</th>\n",
       "      <td>35</td>\n",
       "      <td>0</td>\n",
       "      <td>0</td>\n",
       "      <td>3</td>\n",
       "      <td>2</td>\n",
       "      <td>0</td>\n",
       "      <td>1405.56</td>\n",
       "      <td>4.0</td>\n",
       "      <td>False</td>\n",
       "      <td>0.0</td>\n",
       "      <td>19</td>\n",
       "      <td>2</td>\n",
       "    </tr>\n",
       "    <tr>\n",
       "      <th>907</th>\n",
       "      <td>35</td>\n",
       "      <td>0</td>\n",
       "      <td>0</td>\n",
       "      <td>1</td>\n",
       "      <td>2</td>\n",
       "      <td>0</td>\n",
       "      <td>597.38</td>\n",
       "      <td>1.0</td>\n",
       "      <td>False</td>\n",
       "      <td>0.0</td>\n",
       "      <td>19</td>\n",
       "      <td>2</td>\n",
       "    </tr>\n",
       "    <tr>\n",
       "      <th>908</th>\n",
       "      <td>35</td>\n",
       "      <td>0</td>\n",
       "      <td>0</td>\n",
       "      <td>3</td>\n",
       "      <td>2</td>\n",
       "      <td>0</td>\n",
       "      <td>597.38</td>\n",
       "      <td>1.0</td>\n",
       "      <td>False</td>\n",
       "      <td>0.0</td>\n",
       "      <td>19</td>\n",
       "      <td>2</td>\n",
       "    </tr>\n",
       "    <tr>\n",
       "      <th>939</th>\n",
       "      <td>35</td>\n",
       "      <td>0</td>\n",
       "      <td>0</td>\n",
       "      <td>1</td>\n",
       "      <td>2</td>\n",
       "      <td>0</td>\n",
       "      <td>2611.35</td>\n",
       "      <td>5.0</td>\n",
       "      <td>False</td>\n",
       "      <td>0.0</td>\n",
       "      <td>19</td>\n",
       "      <td>2</td>\n",
       "    </tr>\n",
       "  </tbody>\n",
       "</table>\n",
       "</div>"
      ],
      "text/plain": [
       "     state_code  shipping_status  carrier  status  payment_method  \\\n",
       "714          35                0        0       1               2   \n",
       "715          35                0        0       3               2   \n",
       "907          35                0        0       1               2   \n",
       "908          35                0        0       3               2   \n",
       "939          35                0        0       1               2   \n",
       "\n",
       "     return_status  total_sales  quantity  is_active  percentage  return_days  \\\n",
       "714              0      1405.56       4.0      False         0.0           19   \n",
       "715              0      1405.56       4.0      False         0.0           19   \n",
       "907              0       597.38       1.0      False         0.0           19   \n",
       "908              0       597.38       1.0      False         0.0           19   \n",
       "939              0      2611.35       5.0      False         0.0           19   \n",
       "\n",
       "     shipping_month  \n",
       "714               2  \n",
       "715               2  \n",
       "907               2  \n",
       "908               2  \n",
       "939               2  "
      ]
     },
     "execution_count": 27,
     "metadata": {},
     "output_type": "execute_result"
    }
   ],
   "source": [
    "# Encoding\n",
    "\n",
    "cat_cols = ['state_code', 'shipping_status', 'carrier', 'status', 'payment_method', 'return_status']\n",
    "le = LabelEncoder()\n",
    "for col in cat_cols:\n",
    "    df[col] = le.fit_transform(df[col])\n",
    "\n",
    "df.head()"
   ]
  },
  {
   "cell_type": "code",
   "execution_count": 28,
   "id": "65b0d1f9",
   "metadata": {},
   "outputs": [
    {
     "data": {
      "text/plain": [
       "state_code         0\n",
       "shipping_status    0\n",
       "carrier            0\n",
       "status             0\n",
       "payment_method     0\n",
       "return_status      0\n",
       "total_sales        0\n",
       "quantity           0\n",
       "is_active          0\n",
       "percentage         0\n",
       "return_days        0\n",
       "shipping_month     0\n",
       "dtype: int64"
      ]
     },
     "execution_count": 28,
     "metadata": {},
     "output_type": "execute_result"
    }
   ],
   "source": [
    "df.isna().sum()"
   ]
  },
  {
   "cell_type": "code",
   "execution_count": 29,
   "id": "1b29b5ff",
   "metadata": {
    "scrolled": false
   },
   "outputs": [
    {
     "name": "stdout",
     "output_type": "stream",
     "text": [
      "state_code\n",
      "13    205\n",
      "34     90\n",
      "12     80\n",
      "4      65\n",
      "11     55\n",
      "32     50\n",
      "3      50\n",
      "22     50\n",
      "29     50\n",
      "41     50\n",
      "42     45\n",
      "30     45\n",
      "21     40\n",
      "16     40\n",
      "9      40\n",
      "0      40\n",
      "17     40\n",
      "15     35\n",
      "37     35\n",
      "23     30\n",
      "40     30\n",
      "36     30\n",
      "26     25\n",
      "38     25\n",
      "43     25\n",
      "31     25\n",
      "14     20\n",
      "28     20\n",
      "19     20\n",
      "39     20\n",
      "27     20\n",
      "24     15\n",
      "6      15\n",
      "10     15\n",
      "2      15\n",
      "20     10\n",
      "44     10\n",
      "45     10\n",
      "33     10\n",
      "5      10\n",
      "35      8\n",
      "7       5\n",
      "1       5\n",
      "18      5\n",
      "8       5\n",
      "25      5\n",
      "Name: count, dtype: int64\n",
      "**************************************************\n",
      "shipping_status\n",
      "0    1538\n",
      "Name: count, dtype: int64\n",
      "**************************************************\n",
      "carrier\n",
      "0    623\n",
      "2    525\n",
      "1    390\n",
      "Name: count, dtype: int64\n",
      "**************************************************\n",
      "status\n",
      "1    310\n",
      "3    310\n",
      "0    306\n",
      "2    306\n",
      "4    306\n",
      "Name: count, dtype: int64\n",
      "**************************************************\n",
      "payment_method\n",
      "0    540\n",
      "1    530\n",
      "2    468\n",
      "Name: count, dtype: int64\n",
      "**************************************************\n",
      "return_status\n",
      "1    480\n",
      "3    400\n",
      "2    355\n",
      "0    303\n",
      "Name: count, dtype: int64\n",
      "**************************************************\n",
      "total_sales\n",
      "2249.92     4\n",
      "26606.80    4\n",
      "30841.20    4\n",
      "9538.60     4\n",
      "31351.98    3\n",
      "           ..\n",
      "6023.20     1\n",
      "1931.76     1\n",
      "4507.44     1\n",
      "2575.68     1\n",
      "10795.92    1\n",
      "Name: count, Length: 1310, dtype: int64\n",
      "**************************************************\n",
      "quantity\n",
      "4.0    337\n",
      "2.0    310\n",
      "3.0    305\n",
      "5.0    302\n",
      "1.0    284\n",
      "Name: count, dtype: int64\n",
      "**************************************************\n",
      "is_active\n",
      "False    1243\n",
      "True      295\n",
      "Name: count, dtype: int64\n",
      "**************************************************\n",
      "percentage\n",
      "0.0000    1243\n",
      "0.3078     135\n",
      "0.3660      90\n",
      "0.4512      45\n",
      "0.1879      10\n",
      "0.4612       5\n",
      "0.2737       5\n",
      "0.2078       5\n",
      "Name: count, dtype: int64\n",
      "**************************************************\n",
      "return_days\n",
      "23    105\n",
      "25    100\n",
      "26     95\n",
      "0      90\n",
      "1      90\n",
      "6      85\n",
      "11     85\n",
      "29     85\n",
      "7      75\n",
      "18     65\n",
      "3      60\n",
      "19     58\n",
      "20     55\n",
      "13     55\n",
      "2      55\n",
      "28     45\n",
      "27     40\n",
      "8      40\n",
      "24     40\n",
      "15     35\n",
      "12     35\n",
      "21     35\n",
      "5      25\n",
      "22     20\n",
      "17     20\n",
      "10     20\n",
      "14     10\n",
      "16     10\n",
      "9       5\n",
      "Name: count, dtype: int64\n",
      "**************************************************\n",
      "shipping_month\n",
      "2    423\n",
      "4    400\n",
      "3    375\n",
      "1    285\n",
      "5     55\n",
      "Name: count, dtype: int64\n",
      "**************************************************\n"
     ]
    }
   ],
   "source": [
    "for col in df.columns:\n",
    "    print(df[col].value_counts())\n",
    "    print('*'*50)"
   ]
  },
  {
   "cell_type": "code",
   "execution_count": 30,
   "id": "09fc0a44",
   "metadata": {},
   "outputs": [
    {
     "data": {
      "text/html": [
       "<div>\n",
       "<style scoped>\n",
       "    .dataframe tbody tr th:only-of-type {\n",
       "        vertical-align: middle;\n",
       "    }\n",
       "\n",
       "    .dataframe tbody tr th {\n",
       "        vertical-align: top;\n",
       "    }\n",
       "\n",
       "    .dataframe thead th {\n",
       "        text-align: right;\n",
       "    }\n",
       "</style>\n",
       "<table border=\"1\" class=\"dataframe\">\n",
       "  <thead>\n",
       "    <tr style=\"text-align: right;\">\n",
       "      <th></th>\n",
       "      <th>state_code</th>\n",
       "      <th>carrier</th>\n",
       "      <th>status</th>\n",
       "      <th>payment_method</th>\n",
       "      <th>return_status</th>\n",
       "      <th>total_sales</th>\n",
       "      <th>quantity</th>\n",
       "      <th>is_active</th>\n",
       "      <th>percentage</th>\n",
       "      <th>return_days</th>\n",
       "      <th>shipping_month</th>\n",
       "    </tr>\n",
       "  </thead>\n",
       "  <tbody>\n",
       "    <tr>\n",
       "      <th>714</th>\n",
       "      <td>35</td>\n",
       "      <td>0</td>\n",
       "      <td>1</td>\n",
       "      <td>2</td>\n",
       "      <td>0</td>\n",
       "      <td>1405.56</td>\n",
       "      <td>4.0</td>\n",
       "      <td>False</td>\n",
       "      <td>0.0</td>\n",
       "      <td>19</td>\n",
       "      <td>2</td>\n",
       "    </tr>\n",
       "    <tr>\n",
       "      <th>715</th>\n",
       "      <td>35</td>\n",
       "      <td>0</td>\n",
       "      <td>3</td>\n",
       "      <td>2</td>\n",
       "      <td>0</td>\n",
       "      <td>1405.56</td>\n",
       "      <td>4.0</td>\n",
       "      <td>False</td>\n",
       "      <td>0.0</td>\n",
       "      <td>19</td>\n",
       "      <td>2</td>\n",
       "    </tr>\n",
       "    <tr>\n",
       "      <th>907</th>\n",
       "      <td>35</td>\n",
       "      <td>0</td>\n",
       "      <td>1</td>\n",
       "      <td>2</td>\n",
       "      <td>0</td>\n",
       "      <td>597.38</td>\n",
       "      <td>1.0</td>\n",
       "      <td>False</td>\n",
       "      <td>0.0</td>\n",
       "      <td>19</td>\n",
       "      <td>2</td>\n",
       "    </tr>\n",
       "    <tr>\n",
       "      <th>908</th>\n",
       "      <td>35</td>\n",
       "      <td>0</td>\n",
       "      <td>3</td>\n",
       "      <td>2</td>\n",
       "      <td>0</td>\n",
       "      <td>597.38</td>\n",
       "      <td>1.0</td>\n",
       "      <td>False</td>\n",
       "      <td>0.0</td>\n",
       "      <td>19</td>\n",
       "      <td>2</td>\n",
       "    </tr>\n",
       "    <tr>\n",
       "      <th>939</th>\n",
       "      <td>35</td>\n",
       "      <td>0</td>\n",
       "      <td>1</td>\n",
       "      <td>2</td>\n",
       "      <td>0</td>\n",
       "      <td>2611.35</td>\n",
       "      <td>5.0</td>\n",
       "      <td>False</td>\n",
       "      <td>0.0</td>\n",
       "      <td>19</td>\n",
       "      <td>2</td>\n",
       "    </tr>\n",
       "  </tbody>\n",
       "</table>\n",
       "</div>"
      ],
      "text/plain": [
       "     state_code  carrier  status  payment_method  return_status  total_sales  \\\n",
       "714          35        0       1               2              0      1405.56   \n",
       "715          35        0       3               2              0      1405.56   \n",
       "907          35        0       1               2              0       597.38   \n",
       "908          35        0       3               2              0       597.38   \n",
       "939          35        0       1               2              0      2611.35   \n",
       "\n",
       "     quantity  is_active  percentage  return_days  shipping_month  \n",
       "714       4.0      False         0.0           19               2  \n",
       "715       4.0      False         0.0           19               2  \n",
       "907       1.0      False         0.0           19               2  \n",
       "908       1.0      False         0.0           19               2  \n",
       "939       5.0      False         0.0           19               2  "
      ]
     },
     "execution_count": 30,
     "metadata": {},
     "output_type": "execute_result"
    }
   ],
   "source": [
    "df.drop('shipping_status',axis=1,inplace=True)\n",
    "df.head()"
   ]
  },
  {
   "cell_type": "code",
   "execution_count": 31,
   "id": "4748dc3d",
   "metadata": {},
   "outputs": [],
   "source": [
    "X = df.drop('return_status', axis=1)\n",
    "y = df['return_status']"
   ]
  },
  {
   "cell_type": "code",
   "execution_count": 32,
   "id": "d83b508f",
   "metadata": {},
   "outputs": [],
   "source": [
    "X_train, X_test, y_train, y_test = train_test_split(X, y, test_size=0.2, random_state=42)"
   ]
  },
  {
   "cell_type": "code",
   "execution_count": null,
   "id": "336e36b1",
   "metadata": {},
   "outputs": [],
   "source": []
  },
  {
   "cell_type": "code",
   "execution_count": 33,
   "id": "25947caf",
   "metadata": {},
   "outputs": [],
   "source": [
    "Accuracy_models=[]\n",
    "f1_score_models=[]\n",
    "precision_scores=[]\n",
    "recall_scores=[]\n",
    "Models_names=[]"
   ]
  },
  {
   "cell_type": "code",
   "execution_count": 34,
   "id": "388050d6",
   "metadata": {},
   "outputs": [],
   "source": [
    "def evaluate_model_performance(model, x_train, x_test, y_train, y_test):\n",
    "    y_train_pred = model.predict(x_train)\n",
    "    y_test_pred = model.predict(x_test)\n",
    "\n",
    "\n",
    "    Train_accuracy = accuracy_score(y_train, y_train_pred)\n",
    "    Test_accuracy = accuracy_score(y_test, y_test_pred)\n",
    "    test_recall_score = recall_score(y_test, y_test_pred, average='macro')\n",
    "    test_f1_score = f1_score(y_test, y_test_pred, average='macro')\n",
    "    precision_score_test = precision_score(y_test, y_test_pred, average='macro')\n",
    "\n",
    "\n",
    "    print(f\"- Train Accuracy: {Train_accuracy*100:.2f}%\")\n",
    "    print(f\"- Test Accuracy: {Test_accuracy*100:.2f}%\")\n",
    "    print(f\"- F1 Score: {test_f1_score*100:.2f}%\")\n",
    "    print(f\"- Precision: {precision_score_test*100:.2f}%\")\n",
    "    print(f\"- Recall: {test_recall_score*100:.2f}%\\n\")\n",
    "\n",
    "\n",
    "    plt.figure(figsize=(6, 4))\n",
    "    sns.heatmap(confusion_matrix(y_test, y_test_pred), annot=True, fmt='d', cmap='Blues')\n",
    "    plt.title('Confusion Matrix')\n",
    "    plt.xlabel('Predicted')\n",
    "    plt.ylabel('Actual')\n",
    "    plt.show()\n",
    "    \n",
    "    \n",
    "    Accuracy_models.append(Test_accuracy)\n",
    "    f1_score_models.append(test_f1_score)\n",
    "    precision_scores.append(precision_score_test)\n",
    "    recall_scores.append(test_recall_score)\n"
   ]
  },
  {
   "cell_type": "markdown",
   "id": "9e44bc02",
   "metadata": {},
   "source": [
    "# Decision Tree"
   ]
  },
  {
   "cell_type": "code",
   "execution_count": 35,
   "id": "640810fe",
   "metadata": {},
   "outputs": [
    {
     "data": {
      "text/html": [
       "<style>#sk-container-id-1 {color: black;}#sk-container-id-1 pre{padding: 0;}#sk-container-id-1 div.sk-toggleable {background-color: white;}#sk-container-id-1 label.sk-toggleable__label {cursor: pointer;display: block;width: 100%;margin-bottom: 0;padding: 0.3em;box-sizing: border-box;text-align: center;}#sk-container-id-1 label.sk-toggleable__label-arrow:before {content: \"▸\";float: left;margin-right: 0.25em;color: #696969;}#sk-container-id-1 label.sk-toggleable__label-arrow:hover:before {color: black;}#sk-container-id-1 div.sk-estimator:hover label.sk-toggleable__label-arrow:before {color: black;}#sk-container-id-1 div.sk-toggleable__content {max-height: 0;max-width: 0;overflow: hidden;text-align: left;background-color: #f0f8ff;}#sk-container-id-1 div.sk-toggleable__content pre {margin: 0.2em;color: black;border-radius: 0.25em;background-color: #f0f8ff;}#sk-container-id-1 input.sk-toggleable__control:checked~div.sk-toggleable__content {max-height: 200px;max-width: 100%;overflow: auto;}#sk-container-id-1 input.sk-toggleable__control:checked~label.sk-toggleable__label-arrow:before {content: \"▾\";}#sk-container-id-1 div.sk-estimator input.sk-toggleable__control:checked~label.sk-toggleable__label {background-color: #d4ebff;}#sk-container-id-1 div.sk-label input.sk-toggleable__control:checked~label.sk-toggleable__label {background-color: #d4ebff;}#sk-container-id-1 input.sk-hidden--visually {border: 0;clip: rect(1px 1px 1px 1px);clip: rect(1px, 1px, 1px, 1px);height: 1px;margin: -1px;overflow: hidden;padding: 0;position: absolute;width: 1px;}#sk-container-id-1 div.sk-estimator {font-family: monospace;background-color: #f0f8ff;border: 1px dotted black;border-radius: 0.25em;box-sizing: border-box;margin-bottom: 0.5em;}#sk-container-id-1 div.sk-estimator:hover {background-color: #d4ebff;}#sk-container-id-1 div.sk-parallel-item::after {content: \"\";width: 100%;border-bottom: 1px solid gray;flex-grow: 1;}#sk-container-id-1 div.sk-label:hover label.sk-toggleable__label {background-color: #d4ebff;}#sk-container-id-1 div.sk-serial::before {content: \"\";position: absolute;border-left: 1px solid gray;box-sizing: border-box;top: 0;bottom: 0;left: 50%;z-index: 0;}#sk-container-id-1 div.sk-serial {display: flex;flex-direction: column;align-items: center;background-color: white;padding-right: 0.2em;padding-left: 0.2em;position: relative;}#sk-container-id-1 div.sk-item {position: relative;z-index: 1;}#sk-container-id-1 div.sk-parallel {display: flex;align-items: stretch;justify-content: center;background-color: white;position: relative;}#sk-container-id-1 div.sk-item::before, #sk-container-id-1 div.sk-parallel-item::before {content: \"\";position: absolute;border-left: 1px solid gray;box-sizing: border-box;top: 0;bottom: 0;left: 50%;z-index: -1;}#sk-container-id-1 div.sk-parallel-item {display: flex;flex-direction: column;z-index: 1;position: relative;background-color: white;}#sk-container-id-1 div.sk-parallel-item:first-child::after {align-self: flex-end;width: 50%;}#sk-container-id-1 div.sk-parallel-item:last-child::after {align-self: flex-start;width: 50%;}#sk-container-id-1 div.sk-parallel-item:only-child::after {width: 0;}#sk-container-id-1 div.sk-dashed-wrapped {border: 1px dashed gray;margin: 0 0.4em 0.5em 0.4em;box-sizing: border-box;padding-bottom: 0.4em;background-color: white;}#sk-container-id-1 div.sk-label label {font-family: monospace;font-weight: bold;display: inline-block;line-height: 1.2em;}#sk-container-id-1 div.sk-label-container {text-align: center;}#sk-container-id-1 div.sk-container {/* jupyter's `normalize.less` sets `[hidden] { display: none; }` but bootstrap.min.css set `[hidden] { display: none !important; }` so we also need the `!important` here to be able to override the default hidden behavior on the sphinx rendered scikit-learn.org. See: https://github.com/scikit-learn/scikit-learn/issues/21755 */display: inline-block !important;position: relative;}#sk-container-id-1 div.sk-text-repr-fallback {display: none;}</style><div id=\"sk-container-id-1\" class=\"sk-top-container\"><div class=\"sk-text-repr-fallback\"><pre>GridSearchCV(cv=5, estimator=DecisionTreeClassifier(random_state=42),\n",
       "             param_grid={&#x27;ccp_alpha&#x27;: [0.001, 0.01, 0.02, 0.03],\n",
       "                         &#x27;criterion&#x27;: [&#x27;gini&#x27;, &#x27;entropy&#x27;, &#x27;log_loss&#x27;],\n",
       "                         &#x27;max_depth&#x27;: [5, 6, 7, 8, 9, 10, 11, 12]},\n",
       "             scoring=&#x27;accuracy&#x27;)</pre><b>In a Jupyter environment, please rerun this cell to show the HTML representation or trust the notebook. <br />On GitHub, the HTML representation is unable to render, please try loading this page with nbviewer.org.</b></div><div class=\"sk-container\" hidden><div class=\"sk-item sk-dashed-wrapped\"><div class=\"sk-label-container\"><div class=\"sk-label sk-toggleable\"><input class=\"sk-toggleable__control sk-hidden--visually\" id=\"sk-estimator-id-1\" type=\"checkbox\" ><label for=\"sk-estimator-id-1\" class=\"sk-toggleable__label sk-toggleable__label-arrow\">GridSearchCV</label><div class=\"sk-toggleable__content\"><pre>GridSearchCV(cv=5, estimator=DecisionTreeClassifier(random_state=42),\n",
       "             param_grid={&#x27;ccp_alpha&#x27;: [0.001, 0.01, 0.02, 0.03],\n",
       "                         &#x27;criterion&#x27;: [&#x27;gini&#x27;, &#x27;entropy&#x27;, &#x27;log_loss&#x27;],\n",
       "                         &#x27;max_depth&#x27;: [5, 6, 7, 8, 9, 10, 11, 12]},\n",
       "             scoring=&#x27;accuracy&#x27;)</pre></div></div></div><div class=\"sk-parallel\"><div class=\"sk-parallel-item\"><div class=\"sk-item\"><div class=\"sk-label-container\"><div class=\"sk-label sk-toggleable\"><input class=\"sk-toggleable__control sk-hidden--visually\" id=\"sk-estimator-id-2\" type=\"checkbox\" ><label for=\"sk-estimator-id-2\" class=\"sk-toggleable__label sk-toggleable__label-arrow\">estimator: DecisionTreeClassifier</label><div class=\"sk-toggleable__content\"><pre>DecisionTreeClassifier(random_state=42)</pre></div></div></div><div class=\"sk-serial\"><div class=\"sk-item\"><div class=\"sk-estimator sk-toggleable\"><input class=\"sk-toggleable__control sk-hidden--visually\" id=\"sk-estimator-id-3\" type=\"checkbox\" ><label for=\"sk-estimator-id-3\" class=\"sk-toggleable__label sk-toggleable__label-arrow\">DecisionTreeClassifier</label><div class=\"sk-toggleable__content\"><pre>DecisionTreeClassifier(random_state=42)</pre></div></div></div></div></div></div></div></div></div></div>"
      ],
      "text/plain": [
       "GridSearchCV(cv=5, estimator=DecisionTreeClassifier(random_state=42),\n",
       "             param_grid={'ccp_alpha': [0.001, 0.01, 0.02, 0.03],\n",
       "                         'criterion': ['gini', 'entropy', 'log_loss'],\n",
       "                         'max_depth': [5, 6, 7, 8, 9, 10, 11, 12]},\n",
       "             scoring='accuracy')"
      ]
     },
     "execution_count": 35,
     "metadata": {},
     "output_type": "execute_result"
    }
   ],
   "source": [
    "decision_tree = DecisionTreeClassifier(random_state=42)\n",
    "params={'criterion':['gini', 'entropy','log_loss'], 'max_depth':[5, 6, 7, 8,9, 10, 11, 12],'ccp_alpha':[0.001, 0.01, 0.02, 0.03]}\n",
    "\n",
    "grid_dt=GridSearchCV(estimator=decision_tree,\n",
    "                  param_grid=params,\n",
    "                  cv=5,\n",
    "                  scoring='accuracy')\n",
    "\n",
    "grid_dt.fit(X_train,y_train)"
   ]
  },
  {
   "cell_type": "code",
   "execution_count": 36,
   "id": "0fcc1fa6",
   "metadata": {},
   "outputs": [
    {
     "data": {
      "text/plain": [
       "{'ccp_alpha': 0.001, 'criterion': 'entropy', 'max_depth': 12}"
      ]
     },
     "execution_count": 36,
     "metadata": {},
     "output_type": "execute_result"
    }
   ],
   "source": [
    "finall_decision_tree=grid_dt.best_estimator_\n",
    "grid_dt.best_params_"
   ]
  },
  {
   "cell_type": "code",
   "execution_count": 37,
   "id": "3084be81",
   "metadata": {
    "scrolled": false
   },
   "outputs": [
    {
     "name": "stdout",
     "output_type": "stream",
     "text": [
      "- Train Accuracy: 98.62%\n",
      "- Test Accuracy: 97.40%\n",
      "- F1 Score: 97.67%\n",
      "- Precision: 97.44%\n",
      "- Recall: 98.11%\n",
      "\n"
     ]
    },
    {
     "data": {
      "image/png": "[encoded data removed]",
      "text/plain": [
       "<Figure size 600x400 with 2 Axes>"
      ]
     },
     "metadata": {},
     "output_type": "display_data"
    }
   ],
   "source": [
    "evaluate_model_performance(finall_decision_tree,X_train,X_test,y_train,y_test)"
   ]
  },
  {
   "cell_type": "markdown",
   "id": "e6818ef7",
   "metadata": {},
   "source": [
    "# StandardScaler"
   ]
  },
  {
   "cell_type": "code",
   "execution_count": 38,
   "id": "c1e411c5",
   "metadata": {},
   "outputs": [],
   "source": [
    "scaler = StandardScaler()\n",
    "X_train = scaler.fit_transform(X_train)\n",
    "X_test = scaler.transform(X_test)"
   ]
  },
  {
   "cell_type": "markdown",
   "id": "eb59a681",
   "metadata": {},
   "source": [
    "# SVC"
   ]
  },
  {
   "cell_type": "code",
   "execution_count": 39,
   "id": "92f3aea8",
   "metadata": {},
   "outputs": [
    {
     "data": {
      "text/html": [
       "<style>#sk-container-id-2 {color: black;}#sk-container-id-2 pre{padding: 0;}#sk-container-id-2 div.sk-toggleable {background-color: white;}#sk-container-id-2 label.sk-toggleable__label {cursor: pointer;display: block;width: 100%;margin-bottom: 0;padding: 0.3em;box-sizing: border-box;text-align: center;}#sk-container-id-2 label.sk-toggleable__label-arrow:before {content: \"▸\";float: left;margin-right: 0.25em;color: #696969;}#sk-container-id-2 label.sk-toggleable__label-arrow:hover:before {color: black;}#sk-container-id-2 div.sk-estimator:hover label.sk-toggleable__label-arrow:before {color: black;}#sk-container-id-2 div.sk-toggleable__content {max-height: 0;max-width: 0;overflow: hidden;text-align: left;background-color: #f0f8ff;}#sk-container-id-2 div.sk-toggleable__content pre {margin: 0.2em;color: black;border-radius: 0.25em;background-color: #f0f8ff;}#sk-container-id-2 input.sk-toggleable__control:checked~div.sk-toggleable__content {max-height: 200px;max-width: 100%;overflow: auto;}#sk-container-id-2 input.sk-toggleable__control:checked~label.sk-toggleable__label-arrow:before {content: \"▾\";}#sk-container-id-2 div.sk-estimator input.sk-toggleable__control:checked~label.sk-toggleable__label {background-color: #d4ebff;}#sk-container-id-2 div.sk-label input.sk-toggleable__control:checked~label.sk-toggleable__label {background-color: #d4ebff;}#sk-container-id-2 input.sk-hidden--visually {border: 0;clip: rect(1px 1px 1px 1px);clip: rect(1px, 1px, 1px, 1px);height: 1px;margin: -1px;overflow: hidden;padding: 0;position: absolute;width: 1px;}#sk-container-id-2 div.sk-estimator {font-family: monospace;background-color: #f0f8ff;border: 1px dotted black;border-radius: 0.25em;box-sizing: border-box;margin-bottom: 0.5em;}#sk-container-id-2 div.sk-estimator:hover {background-color: #d4ebff;}#sk-container-id-2 div.sk-parallel-item::after {content: \"\";width: 100%;border-bottom: 1px solid gray;flex-grow: 1;}#sk-container-id-2 div.sk-label:hover label.sk-toggleable__label {background-color: #d4ebff;}#sk-container-id-2 div.sk-serial::before {content: \"\";position: absolute;border-left: 1px solid gray;box-sizing: border-box;top: 0;bottom: 0;left: 50%;z-index: 0;}#sk-container-id-2 div.sk-serial {display: flex;flex-direction: column;align-items: center;background-color: white;padding-right: 0.2em;padding-left: 0.2em;position: relative;}#sk-container-id-2 div.sk-item {position: relative;z-index: 1;}#sk-container-id-2 div.sk-parallel {display: flex;align-items: stretch;justify-content: center;background-color: white;position: relative;}#sk-container-id-2 div.sk-item::before, #sk-container-id-2 div.sk-parallel-item::before {content: \"\";position: absolute;border-left: 1px solid gray;box-sizing: border-box;top: 0;bottom: 0;left: 50%;z-index: -1;}#sk-container-id-2 div.sk-parallel-item {display: flex;flex-direction: column;z-index: 1;position: relative;background-color: white;}#sk-container-id-2 div.sk-parallel-item:first-child::after {align-self: flex-end;width: 50%;}#sk-container-id-2 div.sk-parallel-item:last-child::after {align-self: flex-start;width: 50%;}#sk-container-id-2 div.sk-parallel-item:only-child::after {width: 0;}#sk-container-id-2 div.sk-dashed-wrapped {border: 1px dashed gray;margin: 0 0.4em 0.5em 0.4em;box-sizing: border-box;padding-bottom: 0.4em;background-color: white;}#sk-container-id-2 div.sk-label label {font-family: monospace;font-weight: bold;display: inline-block;line-height: 1.2em;}#sk-container-id-2 div.sk-label-container {text-align: center;}#sk-container-id-2 div.sk-container {/* jupyter's `normalize.less` sets `[hidden] { display: none; }` but bootstrap.min.css set `[hidden] { display: none !important; }` so we also need the `!important` here to be able to override the default hidden behavior on the sphinx rendered scikit-learn.org. See: https://github.com/scikit-learn/scikit-learn/issues/21755 */display: inline-block !important;position: relative;}#sk-container-id-2 div.sk-text-repr-fallback {display: none;}</style><div id=\"sk-container-id-2\" class=\"sk-top-container\"><div class=\"sk-text-repr-fallback\"><pre>GridSearchCV(cv=5, estimator=SVC(),\n",
       "             param_grid={&#x27;C&#x27;: [0.01, 0.1, 1, 10, 20],\n",
       "                         &#x27;gamma&#x27;: [&#x27;scale&#x27;, &#x27;auto&#x27;],\n",
       "                         &#x27;kernel&#x27;: [&#x27;linear&#x27;, &#x27;rbf&#x27;]},\n",
       "             scoring=&#x27;accuracy&#x27;)</pre><b>In a Jupyter environment, please rerun this cell to show the HTML representation or trust the notebook. <br />On GitHub, the HTML representation is unable to render, please try loading this page with nbviewer.org.</b></div><div class=\"sk-container\" hidden><div class=\"sk-item sk-dashed-wrapped\"><div class=\"sk-label-container\"><div class=\"sk-label sk-toggleable\"><input class=\"sk-toggleable__control sk-hidden--visually\" id=\"sk-estimator-id-4\" type=\"checkbox\" ><label for=\"sk-estimator-id-4\" class=\"sk-toggleable__label sk-toggleable__label-arrow\">GridSearchCV</label><div class=\"sk-toggleable__content\"><pre>GridSearchCV(cv=5, estimator=SVC(),\n",
       "             param_grid={&#x27;C&#x27;: [0.01, 0.1, 1, 10, 20],\n",
       "                         &#x27;gamma&#x27;: [&#x27;scale&#x27;, &#x27;auto&#x27;],\n",
       "                         &#x27;kernel&#x27;: [&#x27;linear&#x27;, &#x27;rbf&#x27;]},\n",
       "             scoring=&#x27;accuracy&#x27;)</pre></div></div></div><div class=\"sk-parallel\"><div class=\"sk-parallel-item\"><div class=\"sk-item\"><div class=\"sk-label-container\"><div class=\"sk-label sk-toggleable\"><input class=\"sk-toggleable__control sk-hidden--visually\" id=\"sk-estimator-id-5\" type=\"checkbox\" ><label for=\"sk-estimator-id-5\" class=\"sk-toggleable__label sk-toggleable__label-arrow\">estimator: SVC</label><div class=\"sk-toggleable__content\"><pre>SVC()</pre></div></div></div><div class=\"sk-serial\"><div class=\"sk-item\"><div class=\"sk-estimator sk-toggleable\"><input class=\"sk-toggleable__control sk-hidden--visually\" id=\"sk-estimator-id-6\" type=\"checkbox\" ><label for=\"sk-estimator-id-6\" class=\"sk-toggleable__label sk-toggleable__label-arrow\">SVC</label><div class=\"sk-toggleable__content\"><pre>SVC()</pre></div></div></div></div></div></div></div></div></div></div>"
      ],
      "text/plain": [
       "GridSearchCV(cv=5, estimator=SVC(),\n",
       "             param_grid={'C': [0.01, 0.1, 1, 10, 20],\n",
       "                         'gamma': ['scale', 'auto'],\n",
       "                         'kernel': ['linear', 'rbf']},\n",
       "             scoring='accuracy')"
      ]
     },
     "execution_count": 39,
     "metadata": {},
     "output_type": "execute_result"
    }
   ],
   "source": [
    "svc = SVC()\n",
    "\n",
    "param_grid = {'C': [0.01, 0.1, 1, 10, 20], 'kernel': ['linear', 'rbf'], 'gamma': ['scale', 'auto']}\n",
    "\n",
    "grid_svc = GridSearchCV(estimator=svc,\n",
    "                               param_grid=param_grid,\n",
    "                               cv=5,\n",
    "                               scoring='accuracy')\n",
    "\n",
    "grid_svc.fit(X_train, y_train)"
   ]
  },
  {
   "cell_type": "code",
   "execution_count": 40,
   "id": "447cbe10",
   "metadata": {},
   "outputs": [
    {
     "data": {
      "text/plain": [
       "{'C': 20, 'gamma': 'scale', 'kernel': 'rbf'}"
      ]
     },
     "execution_count": 40,
     "metadata": {},
     "output_type": "execute_result"
    }
   ],
   "source": [
    "finall_svc = grid_svc.best_estimator_\n",
    "grid_svc.best_params_"
   ]
  },
  {
   "cell_type": "code",
   "execution_count": 41,
   "id": "668d12f8",
   "metadata": {},
   "outputs": [
    {
     "name": "stdout",
     "output_type": "stream",
     "text": [
      "- Train Accuracy: 98.54%\n",
      "- Test Accuracy: 93.51%\n",
      "- F1 Score: 93.43%\n",
      "- Precision: 93.06%\n",
      "- Recall: 94.09%\n",
      "\n"
     ]
    },
    {
     "data": {
      "image/png": "[encoded data removed]",
      "text/plain": [
       "<Figure size 600x400 with 2 Axes>"
      ]
     },
     "metadata": {},
     "output_type": "display_data"
    }
   ],
   "source": [
    "evaluate_model_performance(finall_svc, X_train, X_test, y_train, y_test)"
   ]
  },
  {
   "cell_type": "markdown",
   "id": "0d9d6f73",
   "metadata": {},
   "source": [
    "# KNN"
   ]
  },
  {
   "cell_type": "code",
   "execution_count": 42,
   "id": "df5bd024",
   "metadata": {},
   "outputs": [],
   "source": [
    "# knn=KNeighborsClassifier(n_neighbors=12,p=2)\n",
    "# knn.fit(X_train,y_train)"
   ]
  },
  {
   "cell_type": "code",
   "execution_count": 43,
   "id": "9b03b1fc",
   "metadata": {},
   "outputs": [],
   "source": [
    "# evaluate_model_performance(knn,X_train,X_test,y_train,y_test)"
   ]
  },
  {
   "cell_type": "code",
   "execution_count": 44,
   "id": "448f2928",
   "metadata": {},
   "outputs": [
    {
     "data": {
      "text/html": [
       "<style>#sk-container-id-3 {color: black;}#sk-container-id-3 pre{padding: 0;}#sk-container-id-3 div.sk-toggleable {background-color: white;}#sk-container-id-3 label.sk-toggleable__label {cursor: pointer;display: block;width: 100%;margin-bottom: 0;padding: 0.3em;box-sizing: border-box;text-align: center;}#sk-container-id-3 label.sk-toggleable__label-arrow:before {content: \"▸\";float: left;margin-right: 0.25em;color: #696969;}#sk-container-id-3 label.sk-toggleable__label-arrow:hover:before {color: black;}#sk-container-id-3 div.sk-estimator:hover label.sk-toggleable__label-arrow:before {color: black;}#sk-container-id-3 div.sk-toggleable__content {max-height: 0;max-width: 0;overflow: hidden;text-align: left;background-color: #f0f8ff;}#sk-container-id-3 div.sk-toggleable__content pre {margin: 0.2em;color: black;border-radius: 0.25em;background-color: #f0f8ff;}#sk-container-id-3 input.sk-toggleable__control:checked~div.sk-toggleable__content {max-height: 200px;max-width: 100%;overflow: auto;}#sk-container-id-3 input.sk-toggleable__control:checked~label.sk-toggleable__label-arrow:before {content: \"▾\";}#sk-container-id-3 div.sk-estimator input.sk-toggleable__control:checked~label.sk-toggleable__label {background-color: #d4ebff;}#sk-container-id-3 div.sk-label input.sk-toggleable__control:checked~label.sk-toggleable__label {background-color: #d4ebff;}#sk-container-id-3 input.sk-hidden--visually {border: 0;clip: rect(1px 1px 1px 1px);clip: rect(1px, 1px, 1px, 1px);height: 1px;margin: -1px;overflow: hidden;padding: 0;position: absolute;width: 1px;}#sk-container-id-3 div.sk-estimator {font-family: monospace;background-color: #f0f8ff;border: 1px dotted black;border-radius: 0.25em;box-sizing: border-box;margin-bottom: 0.5em;}#sk-container-id-3 div.sk-estimator:hover {background-color: #d4ebff;}#sk-container-id-3 div.sk-parallel-item::after {content: \"\";width: 100%;border-bottom: 1px solid gray;flex-grow: 1;}#sk-container-id-3 div.sk-label:hover label.sk-toggleable__label {background-color: #d4ebff;}#sk-container-id-3 div.sk-serial::before {content: \"\";position: absolute;border-left: 1px solid gray;box-sizing: border-box;top: 0;bottom: 0;left: 50%;z-index: 0;}#sk-container-id-3 div.sk-serial {display: flex;flex-direction: column;align-items: center;background-color: white;padding-right: 0.2em;padding-left: 0.2em;position: relative;}#sk-container-id-3 div.sk-item {position: relative;z-index: 1;}#sk-container-id-3 div.sk-parallel {display: flex;align-items: stretch;justify-content: center;background-color: white;position: relative;}#sk-container-id-3 div.sk-item::before, #sk-container-id-3 div.sk-parallel-item::before {content: \"\";position: absolute;border-left: 1px solid gray;box-sizing: border-box;top: 0;bottom: 0;left: 50%;z-index: -1;}#sk-container-id-3 div.sk-parallel-item {display: flex;flex-direction: column;z-index: 1;position: relative;background-color: white;}#sk-container-id-3 div.sk-parallel-item:first-child::after {align-self: flex-end;width: 50%;}#sk-container-id-3 div.sk-parallel-item:last-child::after {align-self: flex-start;width: 50%;}#sk-container-id-3 div.sk-parallel-item:only-child::after {width: 0;}#sk-container-id-3 div.sk-dashed-wrapped {border: 1px dashed gray;margin: 0 0.4em 0.5em 0.4em;box-sizing: border-box;padding-bottom: 0.4em;background-color: white;}#sk-container-id-3 div.sk-label label {font-family: monospace;font-weight: bold;display: inline-block;line-height: 1.2em;}#sk-container-id-3 div.sk-label-container {text-align: center;}#sk-container-id-3 div.sk-container {/* jupyter's `normalize.less` sets `[hidden] { display: none; }` but bootstrap.min.css set `[hidden] { display: none !important; }` so we also need the `!important` here to be able to override the default hidden behavior on the sphinx rendered scikit-learn.org. See: https://github.com/scikit-learn/scikit-learn/issues/21755 */display: inline-block !important;position: relative;}#sk-container-id-3 div.sk-text-repr-fallback {display: none;}</style><div id=\"sk-container-id-3\" class=\"sk-top-container\"><div class=\"sk-text-repr-fallback\"><pre>GridSearchCV(cv=3, estimator=KNeighborsClassifier(),\n",
       "             param_grid={&#x27;metric&#x27;: [&#x27;euclidean&#x27;, &#x27;manhattan&#x27;],\n",
       "                         &#x27;n_neighbors&#x27;: [3, 5, 7, 9],\n",
       "                         &#x27;weights&#x27;: [&#x27;uniform&#x27;, &#x27;distance&#x27;]},\n",
       "             scoring=&#x27;accuracy&#x27;)</pre><b>In a Jupyter environment, please rerun this cell to show the HTML representation or trust the notebook. <br />On GitHub, the HTML representation is unable to render, please try loading this page with nbviewer.org.</b></div><div class=\"sk-container\" hidden><div class=\"sk-item sk-dashed-wrapped\"><div class=\"sk-label-container\"><div class=\"sk-label sk-toggleable\"><input class=\"sk-toggleable__control sk-hidden--visually\" id=\"sk-estimator-id-7\" type=\"checkbox\" ><label for=\"sk-estimator-id-7\" class=\"sk-toggleable__label sk-toggleable__label-arrow\">GridSearchCV</label><div class=\"sk-toggleable__content\"><pre>GridSearchCV(cv=3, estimator=KNeighborsClassifier(),\n",
       "             param_grid={&#x27;metric&#x27;: [&#x27;euclidean&#x27;, &#x27;manhattan&#x27;],\n",
       "                         &#x27;n_neighbors&#x27;: [3, 5, 7, 9],\n",
       "                         &#x27;weights&#x27;: [&#x27;uniform&#x27;, &#x27;distance&#x27;]},\n",
       "             scoring=&#x27;accuracy&#x27;)</pre></div></div></div><div class=\"sk-parallel\"><div class=\"sk-parallel-item\"><div class=\"sk-item\"><div class=\"sk-label-container\"><div class=\"sk-label sk-toggleable\"><input class=\"sk-toggleable__control sk-hidden--visually\" id=\"sk-estimator-id-8\" type=\"checkbox\" ><label for=\"sk-estimator-id-8\" class=\"sk-toggleable__label sk-toggleable__label-arrow\">estimator: KNeighborsClassifier</label><div class=\"sk-toggleable__content\"><pre>KNeighborsClassifier()</pre></div></div></div><div class=\"sk-serial\"><div class=\"sk-item\"><div class=\"sk-estimator sk-toggleable\"><input class=\"sk-toggleable__control sk-hidden--visually\" id=\"sk-estimator-id-9\" type=\"checkbox\" ><label for=\"sk-estimator-id-9\" class=\"sk-toggleable__label sk-toggleable__label-arrow\">KNeighborsClassifier</label><div class=\"sk-toggleable__content\"><pre>KNeighborsClassifier()</pre></div></div></div></div></div></div></div></div></div></div>"
      ],
      "text/plain": [
       "GridSearchCV(cv=3, estimator=KNeighborsClassifier(),\n",
       "             param_grid={'metric': ['euclidean', 'manhattan'],\n",
       "                         'n_neighbors': [3, 5, 7, 9],\n",
       "                         'weights': ['uniform', 'distance']},\n",
       "             scoring='accuracy')"
      ]
     },
     "execution_count": 44,
     "metadata": {},
     "output_type": "execute_result"
    }
   ],
   "source": [
    "knn = KNeighborsClassifier()\n",
    "\n",
    "param_grid_knn = { 'n_neighbors': [3, 5, 7, 9],'weights': ['uniform', 'distance'], 'metric': ['euclidean', 'manhattan']}\n",
    "\n",
    "grid_knn = GridSearchCV(estimator=knn,\n",
    "                               param_grid=param_grid_knn,\n",
    "                               cv=3,\n",
    "                               scoring='accuracy')\n",
    "\n",
    "grid_knn.fit(X_train, y_train)\n"
   ]
  },
  {
   "cell_type": "code",
   "execution_count": 45,
   "id": "e5c39637",
   "metadata": {},
   "outputs": [
    {
     "data": {
      "text/plain": [
       "{'metric': 'manhattan', 'n_neighbors': 3, 'weights': 'distance'}"
      ]
     },
     "execution_count": 45,
     "metadata": {},
     "output_type": "execute_result"
    }
   ],
   "source": [
    "finall_knn = grid_knn.best_estimator_\n",
    "grid_knn.best_params_"
   ]
  },
  {
   "cell_type": "code",
   "execution_count": 46,
   "id": "ee91a845",
   "metadata": {},
   "outputs": [
    {
     "name": "stdout",
     "output_type": "stream",
     "text": [
      "- Train Accuracy: 100.00%\n",
      "- Test Accuracy: 95.13%\n",
      "- F1 Score: 94.80%\n",
      "- Precision: 94.38%\n",
      "- Recall: 95.53%\n",
      "\n"
     ]
    },
    {
     "data": {
      "image/png": "[encoded data removed]",
      "text/plain": [
       "<Figure size 600x400 with 2 Axes>"
      ]
     },
     "metadata": {},
     "output_type": "display_data"
    }
   ],
   "source": [
    "evaluate_model_performance(finall_knn, X_train, X_test, y_train, y_test)"
   ]
  },
  {
   "cell_type": "markdown",
   "id": "a93bd1b3",
   "metadata": {},
   "source": [
    "# XGBoost"
   ]
  },
  {
   "cell_type": "code",
   "execution_count": 47,
   "id": "54c29fc1",
   "metadata": {},
   "outputs": [
    {
     "data": {
      "text/html": [
       "<style>#sk-container-id-4 {color: black;}#sk-container-id-4 pre{padding: 0;}#sk-container-id-4 div.sk-toggleable {background-color: white;}#sk-container-id-4 label.sk-toggleable__label {cursor: pointer;display: block;width: 100%;margin-bottom: 0;padding: 0.3em;box-sizing: border-box;text-align: center;}#sk-container-id-4 label.sk-toggleable__label-arrow:before {content: \"▸\";float: left;margin-right: 0.25em;color: #696969;}#sk-container-id-4 label.sk-toggleable__label-arrow:hover:before {color: black;}#sk-container-id-4 div.sk-estimator:hover label.sk-toggleable__label-arrow:before {color: black;}#sk-container-id-4 div.sk-toggleable__content {max-height: 0;max-width: 0;overflow: hidden;text-align: left;background-color: #f0f8ff;}#sk-container-id-4 div.sk-toggleable__content pre {margin: 0.2em;color: black;border-radius: 0.25em;background-color: #f0f8ff;}#sk-container-id-4 input.sk-toggleable__control:checked~div.sk-toggleable__content {max-height: 200px;max-width: 100%;overflow: auto;}#sk-container-id-4 input.sk-toggleable__control:checked~label.sk-toggleable__label-arrow:before {content: \"▾\";}#sk-container-id-4 div.sk-estimator input.sk-toggleable__control:checked~label.sk-toggleable__label {background-color: #d4ebff;}#sk-container-id-4 div.sk-label input.sk-toggleable__control:checked~label.sk-toggleable__label {background-color: #d4ebff;}#sk-container-id-4 input.sk-hidden--visually {border: 0;clip: rect(1px 1px 1px 1px);clip: rect(1px, 1px, 1px, 1px);height: 1px;margin: -1px;overflow: hidden;padding: 0;position: absolute;width: 1px;}#sk-container-id-4 div.sk-estimator {font-family: monospace;background-color: #f0f8ff;border: 1px dotted black;border-radius: 0.25em;box-sizing: border-box;margin-bottom: 0.5em;}#sk-container-id-4 div.sk-estimator:hover {background-color: #d4ebff;}#sk-container-id-4 div.sk-parallel-item::after {content: \"\";width: 100%;border-bottom: 1px solid gray;flex-grow: 1;}#sk-container-id-4 div.sk-label:hover label.sk-toggleable__label {background-color: #d4ebff;}#sk-container-id-4 div.sk-serial::before {content: \"\";position: absolute;border-left: 1px solid gray;box-sizing: border-box;top: 0;bottom: 0;left: 50%;z-index: 0;}#sk-container-id-4 div.sk-serial {display: flex;flex-direction: column;align-items: center;background-color: white;padding-right: 0.2em;padding-left: 0.2em;position: relative;}#sk-container-id-4 div.sk-item {position: relative;z-index: 1;}#sk-container-id-4 div.sk-parallel {display: flex;align-items: stretch;justify-content: center;background-color: white;position: relative;}#sk-container-id-4 div.sk-item::before, #sk-container-id-4 div.sk-parallel-item::before {content: \"\";position: absolute;border-left: 1px solid gray;box-sizing: border-box;top: 0;bottom: 0;left: 50%;z-index: -1;}#sk-container-id-4 div.sk-parallel-item {display: flex;flex-direction: column;z-index: 1;position: relative;background-color: white;}#sk-container-id-4 div.sk-parallel-item:first-child::after {align-self: flex-end;width: 50%;}#sk-container-id-4 div.sk-parallel-item:last-child::after {align-self: flex-start;width: 50%;}#sk-container-id-4 div.sk-parallel-item:only-child::after {width: 0;}#sk-container-id-4 div.sk-dashed-wrapped {border: 1px dashed gray;margin: 0 0.4em 0.5em 0.4em;box-sizing: border-box;padding-bottom: 0.4em;background-color: white;}#sk-container-id-4 div.sk-label label {font-family: monospace;font-weight: bold;display: inline-block;line-height: 1.2em;}#sk-container-id-4 div.sk-label-container {text-align: center;}#sk-container-id-4 div.sk-container {/* jupyter's `normalize.less` sets `[hidden] { display: none; }` but bootstrap.min.css set `[hidden] { display: none !important; }` so we also need the `!important` here to be able to override the default hidden behavior on the sphinx rendered scikit-learn.org. See: https://github.com/scikit-learn/scikit-learn/issues/21755 */display: inline-block !important;position: relative;}#sk-container-id-4 div.sk-text-repr-fallback {display: none;}</style><div id=\"sk-container-id-4\" class=\"sk-top-container\"><div class=\"sk-text-repr-fallback\"><pre>XGBClassifier(base_score=None, booster=None, callbacks=None,\n",
       "              colsample_bylevel=None, colsample_bynode=None,\n",
       "              colsample_bytree=None, device=None, early_stopping_rounds=None,\n",
       "              enable_categorical=False, eval_metric=None, feature_types=None,\n",
       "              feature_weights=None, gamma=None, grow_policy=None,\n",
       "              importance_type=None, interaction_constraints=None,\n",
       "              learning_rate=0.1, max_bin=None, max_cat_threshold=None,\n",
       "              max_cat_to_onehot=None, max_delta_step=None, max_depth=3,\n",
       "              max_leaves=None, min_child_weight=None, missing=nan,\n",
       "              monotone_constraints=None, multi_strategy=None, n_estimators=100,\n",
       "              n_jobs=None, num_parallel_tree=None, ...)</pre><b>In a Jupyter environment, please rerun this cell to show the HTML representation or trust the notebook. <br />On GitHub, the HTML representation is unable to render, please try loading this page with nbviewer.org.</b></div><div class=\"sk-container\" hidden><div class=\"sk-item\"><div class=\"sk-estimator sk-toggleable\"><input class=\"sk-toggleable__control sk-hidden--visually\" id=\"sk-estimator-id-10\" type=\"checkbox\" checked><label for=\"sk-estimator-id-10\" class=\"sk-toggleable__label sk-toggleable__label-arrow\">XGBClassifier</label><div class=\"sk-toggleable__content\"><pre>XGBClassifier(base_score=None, booster=None, callbacks=None,\n",
       "              colsample_bylevel=None, colsample_bynode=None,\n",
       "              colsample_bytree=None, device=None, early_stopping_rounds=None,\n",
       "              enable_categorical=False, eval_metric=None, feature_types=None,\n",
       "              feature_weights=None, gamma=None, grow_policy=None,\n",
       "              importance_type=None, interaction_constraints=None,\n",
       "              learning_rate=0.1, max_bin=None, max_cat_threshold=None,\n",
       "              max_cat_to_onehot=None, max_delta_step=None, max_depth=3,\n",
       "              max_leaves=None, min_child_weight=None, missing=nan,\n",
       "              monotone_constraints=None, multi_strategy=None, n_estimators=100,\n",
       "              n_jobs=None, num_parallel_tree=None, ...)</pre></div></div></div></div></div>"
      ],
      "text/plain": [
       "XGBClassifier(base_score=None, booster=None, callbacks=None,\n",
       "              colsample_bylevel=None, colsample_bynode=None,\n",
       "              colsample_bytree=None, device=None, early_stopping_rounds=None,\n",
       "              enable_categorical=False, eval_metric=None, feature_types=None,\n",
       "              feature_weights=None, gamma=None, grow_policy=None,\n",
       "              importance_type=None, interaction_constraints=None,\n",
       "              learning_rate=0.1, max_bin=None, max_cat_threshold=None,\n",
       "              max_cat_to_onehot=None, max_delta_step=None, max_depth=3,\n",
       "              max_leaves=None, min_child_weight=None, missing=nan,\n",
       "              monotone_constraints=None, multi_strategy=None, n_estimators=100,\n",
       "              n_jobs=None, num_parallel_tree=None, ...)"
      ]
     },
     "execution_count": 47,
     "metadata": {},
     "output_type": "execute_result"
    }
   ],
   "source": [
    "xgboost = XGBClassifier( n_estimators=100, max_depth=3, learning_rate=0.1, random_state=42)\n",
    "xgboost.fit(X_train,y_train)"
   ]
  },
  {
   "cell_type": "code",
   "execution_count": 48,
   "id": "ef715524",
   "metadata": {},
   "outputs": [
    {
     "name": "stdout",
     "output_type": "stream",
     "text": [
      "- Train Accuracy: 98.29%\n",
      "- Test Accuracy: 98.70%\n",
      "- F1 Score: 98.81%\n",
      "- Precision: 98.75%\n",
      "- Recall: 98.87%\n",
      "\n"
     ]
    },
    {
     "data": {
      "image/png": "[encoded data removed]",
      "text/plain": [
       "<Figure size 600x400 with 2 Axes>"
      ]
     },
     "metadata": {},
     "output_type": "display_data"
    }
   ],
   "source": [
    "evaluate_model_performance(xgboost,X_train,X_test,y_train,y_test)"
   ]
  },
  {
   "cell_type": "markdown",
   "id": "6d85bdaa",
   "metadata": {},
   "source": [
    "# AdaBoost"
   ]
  },
  {
   "cell_type": "code",
   "execution_count": 49,
   "id": "0b2f540a",
   "metadata": {},
   "outputs": [
    {
     "data": {
      "text/html": [
       "<style>#sk-container-id-5 {color: black;}#sk-container-id-5 pre{padding: 0;}#sk-container-id-5 div.sk-toggleable {background-color: white;}#sk-container-id-5 label.sk-toggleable__label {cursor: pointer;display: block;width: 100%;margin-bottom: 0;padding: 0.3em;box-sizing: border-box;text-align: center;}#sk-container-id-5 label.sk-toggleable__label-arrow:before {content: \"▸\";float: left;margin-right: 0.25em;color: #696969;}#sk-container-id-5 label.sk-toggleable__label-arrow:hover:before {color: black;}#sk-container-id-5 div.sk-estimator:hover label.sk-toggleable__label-arrow:before {color: black;}#sk-container-id-5 div.sk-toggleable__content {max-height: 0;max-width: 0;overflow: hidden;text-align: left;background-color: #f0f8ff;}#sk-container-id-5 div.sk-toggleable__content pre {margin: 0.2em;color: black;border-radius: 0.25em;background-color: #f0f8ff;}#sk-container-id-5 input.sk-toggleable__control:checked~div.sk-toggleable__content {max-height: 200px;max-width: 100%;overflow: auto;}#sk-container-id-5 input.sk-toggleable__control:checked~label.sk-toggleable__label-arrow:before {content: \"▾\";}#sk-container-id-5 div.sk-estimator input.sk-toggleable__control:checked~label.sk-toggleable__label {background-color: #d4ebff;}#sk-container-id-5 div.sk-label input.sk-toggleable__control:checked~label.sk-toggleable__label {background-color: #d4ebff;}#sk-container-id-5 input.sk-hidden--visually {border: 0;clip: rect(1px 1px 1px 1px);clip: rect(1px, 1px, 1px, 1px);height: 1px;margin: -1px;overflow: hidden;padding: 0;position: absolute;width: 1px;}#sk-container-id-5 div.sk-estimator {font-family: monospace;background-color: #f0f8ff;border: 1px dotted black;border-radius: 0.25em;box-sizing: border-box;margin-bottom: 0.5em;}#sk-container-id-5 div.sk-estimator:hover {background-color: #d4ebff;}#sk-container-id-5 div.sk-parallel-item::after {content: \"\";width: 100%;border-bottom: 1px solid gray;flex-grow: 1;}#sk-container-id-5 div.sk-label:hover label.sk-toggleable__label {background-color: #d4ebff;}#sk-container-id-5 div.sk-serial::before {content: \"\";position: absolute;border-left: 1px solid gray;box-sizing: border-box;top: 0;bottom: 0;left: 50%;z-index: 0;}#sk-container-id-5 div.sk-serial {display: flex;flex-direction: column;align-items: center;background-color: white;padding-right: 0.2em;padding-left: 0.2em;position: relative;}#sk-container-id-5 div.sk-item {position: relative;z-index: 1;}#sk-container-id-5 div.sk-parallel {display: flex;align-items: stretch;justify-content: center;background-color: white;position: relative;}#sk-container-id-5 div.sk-item::before, #sk-container-id-5 div.sk-parallel-item::before {content: \"\";position: absolute;border-left: 1px solid gray;box-sizing: border-box;top: 0;bottom: 0;left: 50%;z-index: -1;}#sk-container-id-5 div.sk-parallel-item {display: flex;flex-direction: column;z-index: 1;position: relative;background-color: white;}#sk-container-id-5 div.sk-parallel-item:first-child::after {align-self: flex-end;width: 50%;}#sk-container-id-5 div.sk-parallel-item:last-child::after {align-self: flex-start;width: 50%;}#sk-container-id-5 div.sk-parallel-item:only-child::after {width: 0;}#sk-container-id-5 div.sk-dashed-wrapped {border: 1px dashed gray;margin: 0 0.4em 0.5em 0.4em;box-sizing: border-box;padding-bottom: 0.4em;background-color: white;}#sk-container-id-5 div.sk-label label {font-family: monospace;font-weight: bold;display: inline-block;line-height: 1.2em;}#sk-container-id-5 div.sk-label-container {text-align: center;}#sk-container-id-5 div.sk-container {/* jupyter's `normalize.less` sets `[hidden] { display: none; }` but bootstrap.min.css set `[hidden] { display: none !important; }` so we also need the `!important` here to be able to override the default hidden behavior on the sphinx rendered scikit-learn.org. See: https://github.com/scikit-learn/scikit-learn/issues/21755 */display: inline-block !important;position: relative;}#sk-container-id-5 div.sk-text-repr-fallback {display: none;}</style><div id=\"sk-container-id-5\" class=\"sk-top-container\"><div class=\"sk-text-repr-fallback\"><pre>AdaBoostClassifier(estimator=DecisionTreeClassifier(max_depth=3),\n",
       "                   learning_rate=0.1, n_estimators=100, random_state=42)</pre><b>In a Jupyter environment, please rerun this cell to show the HTML representation or trust the notebook. <br />On GitHub, the HTML representation is unable to render, please try loading this page with nbviewer.org.</b></div><div class=\"sk-container\" hidden><div class=\"sk-item sk-dashed-wrapped\"><div class=\"sk-label-container\"><div class=\"sk-label sk-toggleable\"><input class=\"sk-toggleable__control sk-hidden--visually\" id=\"sk-estimator-id-11\" type=\"checkbox\" ><label for=\"sk-estimator-id-11\" class=\"sk-toggleable__label sk-toggleable__label-arrow\">AdaBoostClassifier</label><div class=\"sk-toggleable__content\"><pre>AdaBoostClassifier(estimator=DecisionTreeClassifier(max_depth=3),\n",
       "                   learning_rate=0.1, n_estimators=100, random_state=42)</pre></div></div></div><div class=\"sk-parallel\"><div class=\"sk-parallel-item\"><div class=\"sk-item\"><div class=\"sk-label-container\"><div class=\"sk-label sk-toggleable\"><input class=\"sk-toggleable__control sk-hidden--visually\" id=\"sk-estimator-id-12\" type=\"checkbox\" ><label for=\"sk-estimator-id-12\" class=\"sk-toggleable__label sk-toggleable__label-arrow\">estimator: DecisionTreeClassifier</label><div class=\"sk-toggleable__content\"><pre>DecisionTreeClassifier(max_depth=3)</pre></div></div></div><div class=\"sk-serial\"><div class=\"sk-item\"><div class=\"sk-estimator sk-toggleable\"><input class=\"sk-toggleable__control sk-hidden--visually\" id=\"sk-estimator-id-13\" type=\"checkbox\" ><label for=\"sk-estimator-id-13\" class=\"sk-toggleable__label sk-toggleable__label-arrow\">DecisionTreeClassifier</label><div class=\"sk-toggleable__content\"><pre>DecisionTreeClassifier(max_depth=3)</pre></div></div></div></div></div></div></div></div></div></div>"
      ],
      "text/plain": [
       "AdaBoostClassifier(estimator=DecisionTreeClassifier(max_depth=3),\n",
       "                   learning_rate=0.1, n_estimators=100, random_state=42)"
      ]
     },
     "execution_count": 49,
     "metadata": {},
     "output_type": "execute_result"
    }
   ],
   "source": [
    "adaboost=AdaBoostClassifier(DecisionTreeClassifier(max_depth=3),\n",
    "                            n_estimators=100,\n",
    "                            learning_rate=0.1,\n",
    "                            random_state=42)\n",
    "adaboost.fit(X_train,y_train)"
   ]
  },
  {
   "cell_type": "code",
   "execution_count": 50,
   "id": "80e4f2bd",
   "metadata": {},
   "outputs": [
    {
     "name": "stdout",
     "output_type": "stream",
     "text": [
      "- Train Accuracy: 97.15%\n",
      "- Test Accuracy: 97.73%\n",
      "- F1 Score: 97.55%\n",
      "- Precision: 96.97%\n",
      "- Recall: 98.35%\n",
      "\n"
     ]
    },
    {
     "data": {
      "image/png": "[encoded data removed]",
      "text/plain": [
       "<Figure size 600x400 with 2 Axes>"
      ]
     },
     "metadata": {},
     "output_type": "display_data"
    }
   ],
   "source": [
    "evaluate_model_performance(adaboost,X_train,X_test,y_train,y_test)"
   ]
  },
  {
   "cell_type": "code",
   "execution_count": 51,
   "id": "ce758fd4",
   "metadata": {},
   "outputs": [],
   "source": [
    "for name in ['Decision Tree', 'SVC', 'KNN', 'XGBoost', 'AdaBoost']:\n",
    "    Models_names.append(name)"
   ]
  },
  {
   "cell_type": "code",
   "execution_count": 52,
   "id": "668068b9",
   "metadata": {},
   "outputs": [
    {
     "name": "stdout",
     "output_type": "stream",
     "text": [
      "['Decision Tree', 'SVC', 'KNN', 'XGBoost', 'AdaBoost']\n",
      "[0.974025974025974, 0.935064935064935, 0.9512987012987013, 0.987012987012987, 0.9772727272727273]\n",
      "[0.9766825649178591, 0.9342996084375395, 0.9479674937222107, 0.9880775682063566, 0.9755394215925299]\n",
      "[0.9743589743589743, 0.9306179518679518, 0.9437834125334126, 0.987528013610116, 0.9696931589537223]\n"
     ]
    }
   ],
   "source": [
    "print(Models_names)\n",
    "print(Accuracy_models)\n",
    "print(f1_score_models)\n",
    "print(precision_scores)"
   ]
  },
  {
   "cell_type": "code",
   "execution_count": 53,
   "id": "3201a408",
   "metadata": {},
   "outputs": [
    {
     "data": {
      "text/html": [
       "<div>\n",
       "<style scoped>\n",
       "    .dataframe tbody tr th:only-of-type {\n",
       "        vertical-align: middle;\n",
       "    }\n",
       "\n",
       "    .dataframe tbody tr th {\n",
       "        vertical-align: top;\n",
       "    }\n",
       "\n",
       "    .dataframe thead th {\n",
       "        text-align: right;\n",
       "    }\n",
       "</style>\n",
       "<table border=\"1\" class=\"dataframe\">\n",
       "  <thead>\n",
       "    <tr style=\"text-align: right;\">\n",
       "      <th></th>\n",
       "      <th>Model</th>\n",
       "      <th>Accuracy</th>\n",
       "      <th>Precision</th>\n",
       "      <th>F1_Score</th>\n",
       "      <th>Recall</th>\n",
       "    </tr>\n",
       "  </thead>\n",
       "  <tbody>\n",
       "    <tr>\n",
       "      <th>0</th>\n",
       "      <td>XGBoost</td>\n",
       "      <td>0.987013</td>\n",
       "      <td>0.987528</td>\n",
       "      <td>0.988078</td>\n",
       "      <td>0.988663</td>\n",
       "    </tr>\n",
       "    <tr>\n",
       "      <th>1</th>\n",
       "      <td>AdaBoost</td>\n",
       "      <td>0.977273</td>\n",
       "      <td>0.969693</td>\n",
       "      <td>0.975539</td>\n",
       "      <td>0.983491</td>\n",
       "    </tr>\n",
       "    <tr>\n",
       "      <th>2</th>\n",
       "      <td>Decision Tree</td>\n",
       "      <td>0.974026</td>\n",
       "      <td>0.974359</td>\n",
       "      <td>0.976683</td>\n",
       "      <td>0.981132</td>\n",
       "    </tr>\n",
       "    <tr>\n",
       "      <th>3</th>\n",
       "      <td>KNN</td>\n",
       "      <td>0.951299</td>\n",
       "      <td>0.943783</td>\n",
       "      <td>0.947967</td>\n",
       "      <td>0.955294</td>\n",
       "    </tr>\n",
       "    <tr>\n",
       "      <th>4</th>\n",
       "      <td>SVC</td>\n",
       "      <td>0.935065</td>\n",
       "      <td>0.930618</td>\n",
       "      <td>0.934300</td>\n",
       "      <td>0.940860</td>\n",
       "    </tr>\n",
       "  </tbody>\n",
       "</table>\n",
       "</div>"
      ],
      "text/plain": [
       "           Model  Accuracy  Precision  F1_Score    Recall\n",
       "0        XGBoost  0.987013   0.987528  0.988078  0.988663\n",
       "1       AdaBoost  0.977273   0.969693  0.975539  0.983491\n",
       "2  Decision Tree  0.974026   0.974359  0.976683  0.981132\n",
       "3            KNN  0.951299   0.943783  0.947967  0.955294\n",
       "4            SVC  0.935065   0.930618  0.934300  0.940860"
      ]
     },
     "execution_count": 53,
     "metadata": {},
     "output_type": "execute_result"
    }
   ],
   "source": [
    "model_accuracy=pd.DataFrame({ 'Model':Models_names,'Accuracy':Accuracy_models,'Precision':precision_scores,'F1_Score':f1_score_models,'Recall':recall_scores }).sort_values(by='Accuracy',ascending=False)\n",
    "model_accuracy.reset_index(inplace=True,drop=True)\n",
    "model_accuracy"
   ]
  },
  {
   "cell_type": "code",
   "execution_count": 54,
   "id": "c75c924b",
   "metadata": {},
   "outputs": [
    {
     "data": {
      "image/png": "[encoded data removed]",
      "text/plain": [
       "<Figure size 1800x500 with 1 Axes>"
      ]
     },
     "metadata": {},
     "output_type": "display_data"
    }
   ],
   "source": [
    "plt.figure(figsize=(18,5))\n",
    "\n",
    "sns.lineplot(x=model_accuracy['Model'], y=model_accuracy['Accuracy']*100, marker='o', color='b', lw=2, label='Accuracy')\n",
    "for i, score in enumerate(model_accuracy['Accuracy']):\n",
    "    plt.text(i, score*100 + 0.2, f'{score*100:.1f}', ha='center', color='b')\n",
    "\n",
    "sns.lineplot(x=model_accuracy['Model'],y=model_accuracy['F1_Score']*100,marker='o',color='g',lw=2,label='F1-Score')\n",
    "for i, score in enumerate(model_accuracy['F1_Score']):\n",
    "    plt.text(i, score*100 + 0.2, f'{score*100:.1f}', ha='center', color='g')\n",
    "\n",
    "sns.lineplot(x=model_accuracy['Model'],y=model_accuracy['Precision']*100,marker='o',color='r',lw=2,label='Precision')\n",
    "for i, score in enumerate(model_accuracy['Precision']):\n",
    "    plt.text(i, score*100 + 0.2, f'{score*100:.1f}', ha='center', color='r')\n",
    "\n",
    "\n",
    "plt.legend()\n",
    "plt.xticks(rotation=45)\n",
    "\n",
    "plt.xlabel('Models Names')\n",
    "plt.ylabel('Accuracy')\n",
    "plt.title('Accuracy of models')\n",
    "plt.show()"
   ]
  },
  {
   "cell_type": "code",
   "execution_count": null,
   "id": "abbf399f",
   "metadata": {},
   "outputs": [],
   "source": []
  },
  {
   "cell_type": "code",
   "execution_count": 56,
   "id": "98c2f84f",
   "metadata": {},
   "outputs": [],
   "source": [
    "# models=[finall_decision_tree, finall_svc, finall_knn, xgboost, adaboost]\n",
    "# for model,name in zip(models,Models_names):\n",
    "#     pkl.dump(model,open(f\"D:\\\\Files\\\\3D Objects\\\\models_bootcamp\\\\{name}.pkl\",'wb'))"
   ]
  },
  {
   "cell_type": "code",
   "execution_count": null,
   "id": "6e3e7dba",
   "metadata": {},
   "outputs": [],
   "source": []
  }
 ],
 "metadata": {
  "kernelspec": {
   "display_name": "Python 3 (ipykernel)",
   "language": "python",
   "name": "python3"
  },
  "language_info": {
   "codemirror_mode": {
    "name": "ipython",
    "version": 3
   },
   "file_extension": ".py",
   "mimetype": "text/x-python",
   "name": "python",
   "nbconvert_exporter": "python",
   "pygments_lexer": "ipython3",
   "version": "3.11.5"
  }
 },
 "nbformat": 4,
 "nbformat_minor": 5
}
